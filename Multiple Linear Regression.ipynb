{
 "cells": [
  {
   "cell_type": "code",
   "execution_count": 1,
   "id": "d3c9fe96",
   "metadata": {},
   "outputs": [],
   "source": [
    "import numpy as np\n",
    "import pandas as pd\n",
    "import matplotlib.pyplot as plt"
   ]
  },
  {
   "cell_type": "code",
   "execution_count": 2,
   "id": "a485f27b",
   "metadata": {},
   "outputs": [],
   "source": [
    "from sklearn.model_selection import train_test_split\n",
    "from sklearn.linear_model import LinearRegression\n",
    "from sklearn.datasets import make_regression"
   ]
  },
  {
   "cell_type": "code",
   "execution_count": 3,
   "id": "2c1065f5",
   "metadata": {},
   "outputs": [],
   "source": [
    "from sklearn.metrics import r2_score,mean_absolute_error,mean_squared_error"
   ]
  },
  {
   "cell_type": "code",
   "execution_count": 4,
   "id": "935fa398",
   "metadata": {},
   "outputs": [],
   "source": [
    "import plotly.express as px"
   ]
  },
  {
   "cell_type": "code",
   "execution_count": 5,
   "id": "af05bcac",
   "metadata": {},
   "outputs": [],
   "source": [
    "import plotly.graph_objects as go"
   ]
  },
  {
   "cell_type": "code",
   "execution_count": 6,
   "id": "28eaf0e2",
   "metadata": {},
   "outputs": [],
   "source": [
    "X, y = make_regression(n_samples=200, n_features=2, n_targets=1)"
   ]
  },
  {
   "cell_type": "code",
   "execution_count": 7,
   "id": "fc54295b",
   "metadata": {},
   "outputs": [
    {
     "data": {
      "text/plain": [
       "numpy.ndarray"
      ]
     },
     "execution_count": 7,
     "metadata": {},
     "output_type": "execute_result"
    }
   ],
   "source": [
    "type(X)"
   ]
  },
  {
   "cell_type": "code",
   "execution_count": 8,
   "id": "4975ebff",
   "metadata": {},
   "outputs": [
    {
     "data": {
      "text/plain": [
       "numpy.ndarray"
      ]
     },
     "execution_count": 8,
     "metadata": {},
     "output_type": "execute_result"
    }
   ],
   "source": [
    "type(y)"
   ]
  },
  {
   "cell_type": "code",
   "execution_count": 9,
   "id": "bd4fd2b2",
   "metadata": {},
   "outputs": [],
   "source": [
    "X_train,X_test,y_train,y_test = train_test_split(X,y,test_size=0.2)"
   ]
  },
  {
   "cell_type": "code",
   "execution_count": 10,
   "id": "afe1d02e",
   "metadata": {},
   "outputs": [
    {
     "data": {
      "text/plain": [
       "(160, 2)"
      ]
     },
     "execution_count": 10,
     "metadata": {},
     "output_type": "execute_result"
    }
   ],
   "source": [
    "X_train.shape"
   ]
  },
  {
   "cell_type": "code",
   "execution_count": 11,
   "id": "427048e5",
   "metadata": {},
   "outputs": [
    {
     "data": {
      "text/plain": [
       "(160,)"
      ]
     },
     "execution_count": 11,
     "metadata": {},
     "output_type": "execute_result"
    }
   ],
   "source": [
    "y_train.shape"
   ]
  },
  {
   "cell_type": "code",
   "execution_count": 12,
   "id": "933a8870",
   "metadata": {},
   "outputs": [
    {
     "data": {
      "text/plain": [
       "(40, 2)"
      ]
     },
     "execution_count": 12,
     "metadata": {},
     "output_type": "execute_result"
    }
   ],
   "source": [
    "X_test.shape"
   ]
  },
  {
   "cell_type": "code",
   "execution_count": 13,
   "id": "d3db94e2",
   "metadata": {},
   "outputs": [
    {
     "data": {
      "text/plain": [
       "(40,)"
      ]
     },
     "execution_count": 13,
     "metadata": {},
     "output_type": "execute_result"
    }
   ],
   "source": [
    "y_test.shape"
   ]
  },
  {
   "cell_type": "markdown",
   "id": "24964735",
   "metadata": {},
   "source": [
    "### Checking for the missing data"
   ]
  },
  {
   "cell_type": "code",
   "execution_count": 14,
   "id": "902cafd9",
   "metadata": {},
   "outputs": [
    {
     "data": {
      "text/plain": [
       "0    0\n",
       "1    0\n",
       "dtype: int64"
      ]
     },
     "execution_count": 14,
     "metadata": {},
     "output_type": "execute_result"
    }
   ],
   "source": [
    "pd.DataFrame(X).isnull().sum()"
   ]
  },
  {
   "cell_type": "code",
   "execution_count": 15,
   "id": "bd46d0e6",
   "metadata": {},
   "outputs": [
    {
     "data": {
      "text/plain": [
       "a    0\n",
       "b    0\n",
       "dtype: int64"
      ]
     },
     "execution_count": 15,
     "metadata": {},
     "output_type": "execute_result"
    }
   ],
   "source": [
    "pd.DataFrame(X,columns=['a','b']).isnull().sum()"
   ]
  },
  {
   "cell_type": "code",
   "execution_count": 16,
   "id": "6efe8bc4",
   "metadata": {},
   "outputs": [
    {
     "data": {
      "text/plain": [
       "0    0\n",
       "dtype: int64"
      ]
     },
     "execution_count": 16,
     "metadata": {},
     "output_type": "execute_result"
    }
   ],
   "source": [
    "pd.DataFrame(y).isnull().sum()"
   ]
  },
  {
   "cell_type": "code",
   "execution_count": null,
   "id": "98d6c782",
   "metadata": {},
   "outputs": [],
   "source": []
  },
  {
   "cell_type": "markdown",
   "id": "04548ea1",
   "metadata": {},
   "source": [
    "### Training the model"
   ]
  },
  {
   "cell_type": "code",
   "execution_count": 17,
   "id": "4a687a20",
   "metadata": {},
   "outputs": [],
   "source": [
    "lin_reg = LinearRegression()"
   ]
  },
  {
   "cell_type": "code",
   "execution_count": 18,
   "id": "59c1a072",
   "metadata": {},
   "outputs": [
    {
     "data": {
      "text/html": [
       "<style>#sk-container-id-1 {color: black;background-color: white;}#sk-container-id-1 pre{padding: 0;}#sk-container-id-1 div.sk-toggleable {background-color: white;}#sk-container-id-1 label.sk-toggleable__label {cursor: pointer;display: block;width: 100%;margin-bottom: 0;padding: 0.3em;box-sizing: border-box;text-align: center;}#sk-container-id-1 label.sk-toggleable__label-arrow:before {content: \"▸\";float: left;margin-right: 0.25em;color: #696969;}#sk-container-id-1 label.sk-toggleable__label-arrow:hover:before {color: black;}#sk-container-id-1 div.sk-estimator:hover label.sk-toggleable__label-arrow:before {color: black;}#sk-container-id-1 div.sk-toggleable__content {max-height: 0;max-width: 0;overflow: hidden;text-align: left;background-color: #f0f8ff;}#sk-container-id-1 div.sk-toggleable__content pre {margin: 0.2em;color: black;border-radius: 0.25em;background-color: #f0f8ff;}#sk-container-id-1 input.sk-toggleable__control:checked~div.sk-toggleable__content {max-height: 200px;max-width: 100%;overflow: auto;}#sk-container-id-1 input.sk-toggleable__control:checked~label.sk-toggleable__label-arrow:before {content: \"▾\";}#sk-container-id-1 div.sk-estimator input.sk-toggleable__control:checked~label.sk-toggleable__label {background-color: #d4ebff;}#sk-container-id-1 div.sk-label input.sk-toggleable__control:checked~label.sk-toggleable__label {background-color: #d4ebff;}#sk-container-id-1 input.sk-hidden--visually {border: 0;clip: rect(1px 1px 1px 1px);clip: rect(1px, 1px, 1px, 1px);height: 1px;margin: -1px;overflow: hidden;padding: 0;position: absolute;width: 1px;}#sk-container-id-1 div.sk-estimator {font-family: monospace;background-color: #f0f8ff;border: 1px dotted black;border-radius: 0.25em;box-sizing: border-box;margin-bottom: 0.5em;}#sk-container-id-1 div.sk-estimator:hover {background-color: #d4ebff;}#sk-container-id-1 div.sk-parallel-item::after {content: \"\";width: 100%;border-bottom: 1px solid gray;flex-grow: 1;}#sk-container-id-1 div.sk-label:hover label.sk-toggleable__label {background-color: #d4ebff;}#sk-container-id-1 div.sk-serial::before {content: \"\";position: absolute;border-left: 1px solid gray;box-sizing: border-box;top: 0;bottom: 0;left: 50%;z-index: 0;}#sk-container-id-1 div.sk-serial {display: flex;flex-direction: column;align-items: center;background-color: white;padding-right: 0.2em;padding-left: 0.2em;position: relative;}#sk-container-id-1 div.sk-item {position: relative;z-index: 1;}#sk-container-id-1 div.sk-parallel {display: flex;align-items: stretch;justify-content: center;background-color: white;position: relative;}#sk-container-id-1 div.sk-item::before, #sk-container-id-1 div.sk-parallel-item::before {content: \"\";position: absolute;border-left: 1px solid gray;box-sizing: border-box;top: 0;bottom: 0;left: 50%;z-index: -1;}#sk-container-id-1 div.sk-parallel-item {display: flex;flex-direction: column;z-index: 1;position: relative;background-color: white;}#sk-container-id-1 div.sk-parallel-item:first-child::after {align-self: flex-end;width: 50%;}#sk-container-id-1 div.sk-parallel-item:last-child::after {align-self: flex-start;width: 50%;}#sk-container-id-1 div.sk-parallel-item:only-child::after {width: 0;}#sk-container-id-1 div.sk-dashed-wrapped {border: 1px dashed gray;margin: 0 0.4em 0.5em 0.4em;box-sizing: border-box;padding-bottom: 0.4em;background-color: white;}#sk-container-id-1 div.sk-label label {font-family: monospace;font-weight: bold;display: inline-block;line-height: 1.2em;}#sk-container-id-1 div.sk-label-container {text-align: center;}#sk-container-id-1 div.sk-container {/* jupyter's `normalize.less` sets `[hidden] { display: none; }` but bootstrap.min.css set `[hidden] { display: none !important; }` so we also need the `!important` here to be able to override the default hidden behavior on the sphinx rendered scikit-learn.org. See: https://github.com/scikit-learn/scikit-learn/issues/21755 */display: inline-block !important;position: relative;}#sk-container-id-1 div.sk-text-repr-fallback {display: none;}</style><div id=\"sk-container-id-1\" class=\"sk-top-container\"><div class=\"sk-text-repr-fallback\"><pre>LinearRegression()</pre><b>In a Jupyter environment, please rerun this cell to show the HTML representation or trust the notebook. <br />On GitHub, the HTML representation is unable to render, please try loading this page with nbviewer.org.</b></div><div class=\"sk-container\" hidden><div class=\"sk-item\"><div class=\"sk-estimator sk-toggleable\"><input class=\"sk-toggleable__control sk-hidden--visually\" id=\"sk-estimator-id-1\" type=\"checkbox\" checked><label for=\"sk-estimator-id-1\" class=\"sk-toggleable__label sk-toggleable__label-arrow\">LinearRegression</label><div class=\"sk-toggleable__content\"><pre>LinearRegression()</pre></div></div></div></div></div>"
      ],
      "text/plain": [
       "LinearRegression()"
      ]
     },
     "execution_count": 18,
     "metadata": {},
     "output_type": "execute_result"
    }
   ],
   "source": [
    "lin_reg.fit(X_train,y_train)"
   ]
  },
  {
   "cell_type": "code",
   "execution_count": 45,
   "id": "e1fdcbf6",
   "metadata": {},
   "outputs": [
    {
     "data": {
      "text/plain": [
       "array([78.33275109, 84.42172609])"
      ]
     },
     "execution_count": 45,
     "metadata": {},
     "output_type": "execute_result"
    }
   ],
   "source": [
    "lin_reg.coef_"
   ]
  },
  {
   "cell_type": "code",
   "execution_count": 46,
   "id": "01943c5b",
   "metadata": {},
   "outputs": [
    {
     "data": {
      "text/plain": [
       "1.1546319456101628e-14"
      ]
     },
     "execution_count": 46,
     "metadata": {},
     "output_type": "execute_result"
    }
   ],
   "source": [
    "lin_reg.intercept_"
   ]
  },
  {
   "cell_type": "code",
   "execution_count": 47,
   "id": "93568140",
   "metadata": {},
   "outputs": [],
   "source": [
    "y_pred = lin_reg.predict(X_test)"
   ]
  },
  {
   "cell_type": "code",
   "execution_count": 48,
   "id": "072650ed",
   "metadata": {},
   "outputs": [
    {
     "data": {
      "text/plain": [
       "array([ 2.59551294e+02, -5.35490216e+01,  8.89001264e+01,  1.55313396e+02,\n",
       "        7.69756706e+01,  1.05313514e+02, -1.89464382e+02,  5.54200320e+01,\n",
       "        1.38440078e+02,  1.00586534e+02, -2.38632936e+01,  1.43212442e+02,\n",
       "        9.66388567e+00, -4.71704631e+01,  9.31211024e+01,  7.98422913e+01,\n",
       "       -9.34250406e+01,  3.86301247e+01,  1.32055362e+02,  7.73881141e+01,\n",
       "        2.84876122e+02, -1.10522465e+02,  1.02377389e+01,  1.18377236e+02,\n",
       "       -5.65396857e+01, -7.24222206e+01, -2.00930662e+01, -2.18454169e+02,\n",
       "        1.53372862e+02, -8.08826145e+01, -7.85798142e+01, -3.75080708e+01,\n",
       "        2.55987710e-01,  8.46208568e+01,  1.87332363e+01,  1.18675437e+02,\n",
       "       -3.86646732e+01,  6.52802107e+01,  1.67466570e+02,  2.26009431e+02])"
      ]
     },
     "execution_count": 48,
     "metadata": {},
     "output_type": "execute_result"
    }
   ],
   "source": [
    "y_pred"
   ]
  },
  {
   "cell_type": "code",
   "execution_count": 21,
   "id": "65a2e81b",
   "metadata": {},
   "outputs": [
    {
     "data": {
      "text/plain": [
       "array([ 2.59551294e+02, -5.35490216e+01,  8.89001264e+01,  1.55313396e+02,\n",
       "        7.69756706e+01,  1.05313514e+02, -1.89464382e+02,  5.54200320e+01,\n",
       "        1.38440078e+02,  1.00586534e+02, -2.38632936e+01,  1.43212442e+02,\n",
       "        9.66388567e+00, -4.71704631e+01,  9.31211024e+01,  7.98422913e+01,\n",
       "       -9.34250406e+01,  3.86301247e+01,  1.32055362e+02,  7.73881141e+01,\n",
       "        2.84876122e+02, -1.10522465e+02,  1.02377389e+01,  1.18377236e+02,\n",
       "       -5.65396857e+01, -7.24222206e+01, -2.00930662e+01, -2.18454169e+02,\n",
       "        1.53372862e+02, -8.08826145e+01, -7.85798142e+01, -3.75080708e+01,\n",
       "        2.55987710e-01,  8.46208568e+01,  1.87332363e+01,  1.18675437e+02,\n",
       "       -3.86646732e+01,  6.52802107e+01,  1.67466570e+02,  2.26009431e+02])"
      ]
     },
     "execution_count": 21,
     "metadata": {},
     "output_type": "execute_result"
    }
   ],
   "source": [
    "y_test"
   ]
  },
  {
   "cell_type": "code",
   "execution_count": 49,
   "id": "ca56815e",
   "metadata": {},
   "outputs": [
    {
     "data": {
      "text/plain": [
       "1.0"
      ]
     },
     "execution_count": 49,
     "metadata": {},
     "output_type": "execute_result"
    }
   ],
   "source": [
    "r2_score(y_test,y_pred)"
   ]
  },
  {
   "cell_type": "code",
   "execution_count": 23,
   "id": "92912ce5",
   "metadata": {},
   "outputs": [],
   "source": [
    "mae = mean_absolute_error(y_test,y_pred)"
   ]
  },
  {
   "cell_type": "code",
   "execution_count": 24,
   "id": "ec95a3c3",
   "metadata": {},
   "outputs": [
    {
     "data": {
      "text/plain": [
       "1.0565853747479537e-13"
      ]
     },
     "execution_count": 24,
     "metadata": {},
     "output_type": "execute_result"
    }
   ],
   "source": [
    "mae"
   ]
  },
  {
   "cell_type": "code",
   "execution_count": 25,
   "id": "5d873f44",
   "metadata": {},
   "outputs": [],
   "source": [
    "rmse = np.sqrt(mean_squared_error(y_test,y_pred))"
   ]
  },
  {
   "cell_type": "code",
   "execution_count": 26,
   "id": "aed2678e",
   "metadata": {},
   "outputs": [
    {
     "data": {
      "text/plain": [
       "1.2976915833634956e-13"
      ]
     },
     "execution_count": 26,
     "metadata": {},
     "output_type": "execute_result"
    }
   ],
   "source": [
    "rmse"
   ]
  },
  {
   "cell_type": "code",
   "execution_count": 27,
   "id": "8e952ccd",
   "metadata": {},
   "outputs": [
    {
     "data": {
      "text/plain": [
       "array([2.5123236 , 0.74334034])"
      ]
     },
     "execution_count": 27,
     "metadata": {},
     "output_type": "execute_result"
    }
   ],
   "source": [
    "X_test[0]"
   ]
  },
  {
   "cell_type": "code",
   "execution_count": 28,
   "id": "794a37fc",
   "metadata": {},
   "outputs": [
    {
     "data": {
      "text/plain": [
       "259.55129385195517"
      ]
     },
     "execution_count": 28,
     "metadata": {},
     "output_type": "execute_result"
    }
   ],
   "source": [
    "y_test[0]"
   ]
  },
  {
   "cell_type": "code",
   "execution_count": 29,
   "id": "91d120ec",
   "metadata": {},
   "outputs": [
    {
     "data": {
      "text/plain": [
       "array([-73.23885876])"
      ]
     },
     "execution_count": 29,
     "metadata": {},
     "output_type": "execute_result"
    }
   ],
   "source": [
    "lin_reg.predict([[0.36198852, -1.20341552]])"
   ]
  },
  {
   "cell_type": "code",
   "execution_count": null,
   "id": "5ffb342b",
   "metadata": {},
   "outputs": [],
   "source": []
  },
  {
   "cell_type": "markdown",
   "id": "3504f776",
   "metadata": {},
   "source": [
    "### Visulizing the Data"
   ]
  },
  {
   "cell_type": "code",
   "execution_count": 30,
   "id": "2f62cd79",
   "metadata": {},
   "outputs": [],
   "source": [
    "df = pd.DataFrame({'feature1':X[:,0],'feature2':X[:,1],'target':y})"
   ]
  },
  {
   "cell_type": "code",
   "execution_count": 31,
   "id": "68104cc0",
   "metadata": {},
   "outputs": [],
   "source": [
    "# df.shape"
   ]
  },
  {
   "cell_type": "code",
   "execution_count": 32,
   "id": "5ecd82d8",
   "metadata": {},
   "outputs": [],
   "source": [
    "px.scatter_3d(df,x=df.iloc[:,0],y=df.iloc[:,1],z=df.iloc[:,2])"
   ]
  },
  {
   "cell_type": "markdown",
   "id": "4de6bb04",
   "metadata": {},
   "source": [
    "+ ### Here in the above plot, the z-column defines the output column in the dataset and we could see that the data is spread in a \"sort of linear\" structure which means we can use Linear Regression to train the model."
   ]
  },
  {
   "cell_type": "code",
   "execution_count": 33,
   "id": "3d0cae3a",
   "metadata": {},
   "outputs": [
    {
     "name": "stdout",
     "output_type": "stream",
     "text": [
      "Weights of input Features are: [78.33275109 84.42172609]\n"
     ]
    }
   ],
   "source": [
    "#Weights of the input features\n",
    "print('Weights of input Features are:',lin_reg.coef_)"
   ]
  },
  {
   "cell_type": "code",
   "execution_count": 34,
   "id": "95c1fe52",
   "metadata": {},
   "outputs": [],
   "source": [
    "w1 = lin_reg.coef_[0]\n",
    "w2 = lin_reg.coef_[1]"
   ]
  },
  {
   "cell_type": "code",
   "execution_count": 35,
   "id": "5cfe0b11",
   "metadata": {},
   "outputs": [
    {
     "name": "stdout",
     "output_type": "stream",
     "text": [
      "Bias / Intercept of the trained Model: 1.1546319456101628e-14\n"
     ]
    }
   ],
   "source": [
    "# Bias of the hyperplane/plane/line\n",
    "print('Bias / Intercept of the trained Model:',lin_reg.intercept_)\n",
    "w0=lin_reg.intercept_"
   ]
  },
  {
   "cell_type": "code",
   "execution_count": 36,
   "id": "f77a7ab2",
   "metadata": {},
   "outputs": [],
   "source": [
    "# 'So the model hyperplane equation looks like:' \n",
    "# y = w0 + w1*x1 + w2+x2"
   ]
  },
  {
   "cell_type": "markdown",
   "id": "c2d9cb4d",
   "metadata": {},
   "source": [
    "### let's test the above equation with model's prediction"
   ]
  },
  {
   "cell_type": "code",
   "execution_count": 37,
   "id": "915ea636",
   "metadata": {},
   "outputs": [
    {
     "data": {
      "text/plain": [
       "array([-0.22488441, -0.42563933])"
      ]
     },
     "execution_count": 37,
     "metadata": {},
     "output_type": "execute_result"
    }
   ],
   "source": [
    "X_test[1]"
   ]
  },
  {
   "cell_type": "code",
   "execution_count": 38,
   "id": "b6327f55",
   "metadata": {},
   "outputs": [
    {
     "data": {
      "text/plain": [
       "-53.5490215762206"
      ]
     },
     "execution_count": 38,
     "metadata": {},
     "output_type": "execute_result"
    }
   ],
   "source": [
    "y_test[1]"
   ]
  },
  {
   "cell_type": "code",
   "execution_count": 39,
   "id": "a7358379",
   "metadata": {},
   "outputs": [
    {
     "data": {
      "text/plain": [
       "-53.549021576220596"
      ]
     },
     "execution_count": 39,
     "metadata": {},
     "output_type": "execute_result"
    }
   ],
   "source": [
    "y_pred[1]"
   ]
  },
  {
   "cell_type": "code",
   "execution_count": 40,
   "id": "8241c241",
   "metadata": {},
   "outputs": [],
   "source": [
    "x1 = X_test[1][0]\n",
    "x2 = X_test[1][1]"
   ]
  },
  {
   "cell_type": "code",
   "execution_count": 41,
   "id": "6162e92c",
   "metadata": {},
   "outputs": [],
   "source": [
    "y = w0 + w1*x1 + w2*x2"
   ]
  },
  {
   "cell_type": "code",
   "execution_count": 42,
   "id": "15fcda7d",
   "metadata": {},
   "outputs": [
    {
     "data": {
      "text/plain": [
       "-53.5490215762206"
      ]
     },
     "execution_count": 42,
     "metadata": {},
     "output_type": "execute_result"
    }
   ],
   "source": [
    "y"
   ]
  },
  {
   "cell_type": "code",
   "execution_count": null,
   "id": "ef7e59ff",
   "metadata": {},
   "outputs": [],
   "source": []
  },
  {
   "cell_type": "markdown",
   "id": "ac350e5c",
   "metadata": {},
   "source": [
    "### Let's draw the hyperplane/plane found after training the model"
   ]
  },
  {
   "cell_type": "code",
   "execution_count": 43,
   "id": "b3c33522",
   "metadata": {},
   "outputs": [],
   "source": [
    "\n",
    "x = np.linspace(-5, 5, 10)\n",
    "y = np.linspace(-5, 5, 10)\n",
    "xGrid, yGrid = np.meshgrid(y, x)\n",
    "\n",
    "final = np.vstack((xGrid.ravel().reshape(1,100),yGrid.ravel().reshape(1,100))).T\n",
    "\n",
    "z_final = lin_reg.predict(final).reshape(10,10)\n",
    "\n",
    "z = z_final"
   ]
  },
  {
   "cell_type": "code",
   "execution_count": 44,
   "id": "ef2c68ba",
   "metadata": {},
   "outputs": [
    {
     "data": {
      "application/vnd.plotly.v1+json": {
       "config": {
        "plotlyServerURL": "https://plot.ly"
       },
       "data": [
        {
         "hovertemplate": "feature1=%{x}<br>feature2=%{y}<br>target=%{z}<extra></extra>",
         "legendgroup": "",
         "marker": {
          "color": "#636efa",
          "symbol": "circle"
         },
         "mode": "markers",
         "name": "",
         "scene": "scene",
         "showlegend": false,
         "type": "scatter3d",
         "x": [
          -2.072643286286622,
          -2.0223871481690203,
          0.5014808203512032,
          1.12404374987932,
          -0.7646901325480701,
          0.22847666457746682,
          -0.9020466350147233,
          -0.3235909914911978,
          0.3167290079108491,
          -0.5741653576229004,
          0.6951699401830526,
          -1.2951067441992739,
          -0.17696687918455364,
          0.38768800971682943,
          2.037428951633989,
          -0.44333228027165117,
          -0.16654440239444357,
          1.1744567782154847,
          0.3498699718510786,
          0.48624447084720746,
          0.5454571100417844,
          -1.392477074756456,
          0.1922318877888267,
          0.6538382701473298,
          -0.30973603125061555,
          -1.509870477785931,
          1.1959112721300869,
          0.14090553073547016,
          -0.0031333136761245487,
          -0.27790408178420767,
          0.0830321517690187,
          -0.2661637143982678,
          -0.12665644365698114,
          1.331512583170913,
          0.5210179917649621,
          1.2706594333909247,
          -1.7513631796802211,
          -1.808959935840803,
          -1.4121622844192991,
          0.3779176268954493,
          -1.1131734948228476,
          0.5896552576622303,
          2.51232359808901,
          -1.1885647247511066,
          1.3352671882006217,
          1.10291656572248,
          0.7568132356829577,
          0.8739825298041594,
          0.09306609228691208,
          -1.4621407776509907,
          -0.8464741797534525,
          -0.8274739279793807,
          -0.04151158744046981,
          -2.1220739963110837,
          -1.2308752110955485,
          0.025638723589129435,
          -0.14404871652764137,
          -0.29516972266127794,
          -1.1327621751973478,
          0.5472265274771392,
          0.21422629822645256,
          0.36590598540003466,
          0.5830697842407111,
          -1.183410997209021,
          -0.404009351673341,
          -0.33381578426262015,
          -1.1411324205452527,
          0.5236883751692135,
          -0.480541319304267,
          -0.2944660900675271,
          -0.5752601470726223,
          -1.1410510162510936,
          -0.18267788208651997,
          0.5675357077160775,
          -0.5767637814898952,
          1.248257304980907,
          -0.22652680576300338,
          -1.538061939753312,
          2.0609665172758396,
          -1.1669964171025713,
          -0.7832053371097196,
          -0.5815036467435345,
          -0.10477292221801872,
          1.2895407007449755,
          0.5313084053620994,
          -1.8530034113490936,
          0.441661060508884,
          0.34207729961333,
          1.5069154680318348,
          -1.1196432765329443,
          1.1685501829211244,
          1.4492110162033767,
          -0.507545591189765,
          0.6392011983283654,
          -0.6479441136983787,
          -0.2970272488522146,
          -1.084918718826558,
          0.954366464201799,
          0.09222786673305472,
          1.9763359666600333,
          -0.7073891230784315,
          -0.11556764230341621,
          1.2778550957048371,
          2.2108006720455227,
          1.0423296915745883,
          0.7846232013679454,
          0.7401803968297914,
          -1.055371545114305,
          -0.02531691775212687,
          0.3716616372843284,
          0.3472120887333007,
          1.6288895335136981,
          1.5697342877493734,
          1.4167141393259746,
          1.0070089679070804,
          -0.6917945086737414,
          0.5562646526625163,
          1.3777629681980357,
          -0.0761133375947919,
          0.8015897454424016,
          -1.6731595486872937,
          3.265789189470997,
          0.8976201291599497,
          0.3673749826504266,
          -1.5713785977332526,
          0.879244741293047,
          -0.8549084830131806,
          -0.3241523583880148,
          0.11634328029487137,
          -1.9534320758619894,
          -1.4256249434075055,
          0.41427825170744903,
          1.19073992397563,
          -0.2518373994672449,
          -1.6896897655596652,
          0.13518948355439392,
          -0.17227350949417594,
          -0.9432057864042015,
          -0.147040889661398,
          1.773275743795651,
          -0.0968140926306723,
          3.000493651622337,
          -1.517440301634952,
          -0.8689751461520683,
          0.7428559180962815,
          -1.9962952789269475,
          0.9377816345679906,
          0.10424808396645599,
          -1.9647992886118217,
          0.5177420394076026,
          -0.036510212539587784,
          -0.6242269685126611,
          -0.6287086853812635,
          -1.0549143169121515,
          -1.2052925802485297,
          -0.22488441405950743,
          -0.09919228217139058,
          -0.951449527217563,
          -2.225348203917427,
          0.6290329229848671,
          -1.0103019863963034,
          -0.9555892387679317,
          0.0702026864672872,
          -0.6332762652440527,
          -0.5119416932737476,
          -0.12902115376615977,
          -0.3357323531612091,
          -0.6203495791976568,
          -0.9573928341715846,
          -2.210955223956298,
          0.3596980466858719,
          1.8571609388134587,
          -0.1436947780650761,
          -0.6043927412910554,
          0.7738079840245274,
          -0.49789862382539557,
          0.6616344473741567,
          0.5167216488716178,
          0.33403312621048314,
          1.7513503722154469,
          -0.22973020744955566,
          -1.409101103025384,
          1.0020012406751093,
          -1.556525683358598,
          -0.5186843842849471,
          0.5192764062960239,
          -0.2647906474383715,
          0.7329609317506932,
          1.1488081593462047,
          1.7388046824362022,
          -0.5148442427245635,
          -0.5953450475703767,
          0.475182674905928,
          -0.5633006458699212,
          0.2261742749026787,
          -0.35591359485009916,
          0.2947665122926425,
          -1.055773051469967,
          1.910881926731767,
          -0.33854282063884933
         ],
         "y": [
          -0.3211084672956968,
          -0.5627650606892513,
          0.8310215557309031,
          -1.280979559725324,
          1.715786422099189,
          0.2466170592400409,
          -1.0069414875429772,
          0.770540386426003,
          -0.485846387876803,
          0.25008560459241785,
          -0.6682606450500445,
          -0.7011314274229677,
          1.9809493586482616,
          0.6933222133681634,
          0.34214730558587314,
          0.27444304355868543,
          -0.2790250418158427,
          -0.6307165535761731,
          -0.3216031105595295,
          -0.3367022063395168,
          1.3037998394689219,
          -0.8156887422500733,
          -1.9424212489116357,
          -0.6832760840654075,
          1.5348654340027585,
          -0.5148937530307924,
          0.7804677205456793,
          0.871616138524385,
          1.9865977554639789,
          -0.28902223477659994,
          0.6393282716900747,
          -0.6620669558625635,
          0.37057386395986236,
          1.4292699684419863,
          -0.025854102637865868,
          0.012464616756012159,
          0.4847312454719492,
          -1.8105161418652538,
          -1.277344319780213,
          0.3551039585375082,
          -1.4851137197915756,
          1.441805923143567,
          0.7433403426073325,
          0.5129918524379962,
          -0.6016822215420207,
          -0.9887934524153859,
          -0.08021393070481572,
          -1.0420692333568178,
          0.33940438237688025,
          0.9459768714589016,
          0.32742730193826247,
          0.6596413570945225,
          -0.14184038984136935,
          0.5414973221372176,
          0.7172581075951917,
          -1.0763470523676026,
          -0.5037880026790146,
          0.40620804214709283,
          0.670320068157908,
          0.894455491595971,
          -0.7575229907129374,
          -0.3024619315899217,
          -1.9912025936619377,
          -0.2812810253579272,
          0.9600526841141672,
          -0.7539268937284764,
          0.2009651071296643,
          1.0582338773324245,
          0.4253849863640103,
          -0.16579151226951272,
          -0.3048379086603492,
          1.638072340369234,
          -1.1396687631654947,
          1.203372135020365,
          -0.7106868796958666,
          0.6815066493766271,
          0.1010993568484711,
          -0.1647353946715487,
          -0.6866072091355307,
          -0.057841906557456996,
          -1.2492283647165783,
          0.9222582350941534,
          1.658319965708717,
          1.8042892510580002,
          0.5786541171732258,
          -0.6715947904025159,
          -0.9969430464622324,
          -0.8792652351558051,
          0.850875937265991,
          -0.06746391148668593,
          -1.528561750988595,
          -1.4986773666365918,
          1.41643479543196,
          1.7884143531747123,
          0.0902717335392509,
          -2.1175705156383806,
          0.2434720149436486,
          0.7740540519759829,
          -2.5555618116805765,
          -0.8880361199678976,
          0.2909538343185364,
          1.670512645740184,
          -0.5010477033262886,
          1.3230957043496059,
          0.5609874056714608,
          -0.0715652501516343,
          0.7189508296639824,
          1.842499964682231,
          -0.48693791023848054,
          -0.7500091459282772,
          1.2420651495192834,
          0.17418842519345634,
          0.2711741016037764,
          0.7971467136923732,
          0.6030557981367429,
          0.8599601902941244,
          -0.39487467539522697,
          0.2571793419316983,
          0.7658029303144892,
          0.8960886205386936,
          1.0683708176222855,
          1.840816079148666,
          0.5994016421229537,
          0.14098736694042582,
          -1.4644552092532348,
          0.8084441709835033,
          1.5539974672298738,
          -1.4506469428124054,
          1.0901722384272106,
          1.4285097769934583,
          -0.6859277693385967,
          -0.01470928235748394,
          -0.0018103361378390543,
          -0.2950977904447058,
          -0.35526063461659924,
          -0.5560573866220956,
          -2.0506072121220518,
          -0.8079171269726044,
          0.2716706351483184,
          -0.09608183272210573,
          0.010818937327722081,
          -0.207640473799988,
          0.4073391361129355,
          1.6370843909006798,
          -1.0100563626295502,
          0.9826303197305324,
          0.10469058623825903,
          -0.572940740912974,
          0.8571452217670676,
          0.4362852729149423,
          0.5895476644640303,
          -0.8693242254116454,
          -0.37471554985896544,
          -0.45016289383554425,
          0.011713134893513359,
          -0.42563932784289116,
          0.5740456209148146,
          1.7207549858208457,
          0.8801427047779804,
          -1.258260806591322,
          -0.9315833475454577,
          -1.3187030022825872,
          0.30188884407448446,
          -0.4816016308423748,
          0.29462572865818115,
          -0.4698872735901501,
          0.3984172786081652,
          -2.223643027766174,
          -1.3425735450481642,
          0.11188922928424688,
          0.018090400415704238,
          0.6042954923558663,
          2.733495078180972,
          -1.528552021220722,
          -0.4960958960952412,
          0.52595317837293,
          -0.5017716990391244,
          2.09264976320113,
          0.03977211187195607,
          -0.8517698628851179,
          2.234749095726131,
          -0.019144193198337607,
          0.40330793479515015,
          0.6875243093186767,
          -0.7937132057307146,
          -0.06700856111264644,
          -0.6851084072370962,
          -0.7704168698303856,
          1.611198135870056,
          1.0585024034578794,
          0.6170634192332993,
          -0.8048105002290509,
          -0.7387982543557352,
          -0.3968945479285511,
          -1.6033421968271713,
          -0.9166609950636971,
          0.638293023459047,
          0.3098956055718155,
          0.13585430499248868,
          2.0105183869376972
         ],
         "z": [
          -189.46438170747498,
          -205.92874688384805,
          109.43864642453053,
          -20.093066241171037,
          84.94936953525738,
          38.71704351874444,
          -155.66753297508393,
          39.70257684982446,
          -16.205736137965523,
          -23.86329363296382,
          -1.9611432420959232,
          -160.63999954069502,
          153.37286164659332,
          88.9001263505039,
          188.48208103970398,
          -11.558481710253842,
          -36.60165686886677,
          38.752250347522,
          0.255987710179704,
          9.663885666648696,
          152.79618894738132,
          -177.9384116609264,
          -148.92450200048032,
          -6.4663959426376305,
          105.31351380826915,
          -161.7405276920699,
          159.56745212471756,
          84.62085676390562,
          167.46657047300866,
          -46.16874720143912,
          60.47733310793142,
          -76.74217118637489,
          21.363137562952765,
          224.96248152498515,
          38.63012468994266,
          100.58653357428358,
          -96.26724758746448,
          -294.54770618281947,
          -218.45416900151082,
          59.58181651859506,
          -212.57380594475794,
          167.90906323753464,
          259.55129385195517,
          -49.79588708480291,
          53.800100591215255,
          2.918838818316493,
          52.51146432427173,
          -19.51182741833543,
          35.94322684293568,
          -34.6725092653169,
          -38.66467322754072,
          -9.130247268663478,
          -15.226127385227798,
          -120.51375553687316,
          -35.86567403867861,
          -88.85872427449685,
          -53.81438502341295,
          11.171327653970728,
          -32.14280032758066,
          118.37723587225429,
          -47.17046312985743,
          3.128064135865566,
          -122.42729966674486,
          -116.44606875427759,
          49.40214074402414,
          -89.7965184483318,
          -72.42222062962142,
          130.35988166578,
          -1.7303887527184398,
          -37.06274457302867,
          -70.79665233649138,
          48.907229192320024,
          -110.52246521849978,
          146.0473860870392,
          -105.17690682175225,
          155.3133964431041,
          -9.209485679218975,
          -134.38786944930047,
          103.47661145959505,
          -96.2971534524991,
          -166.81264354617147,
          32.30785168613647,
          131.79108266989118,
          253.33448365992416,
          90.46982844598615,
          -201.8480464210491,
          -49.56712687312447,
          -47.4332328752909,
          189.87324957555683,
          -93.40015794357471,
          -37.5080708343212,
          -13.000244330832047,
          79.82042785731396,
          201.05141501404447,
          -43.13434941483509,
          -202.03591958788215,
          -64.43034019698433,
          140.10512983760927,
          -208.52047673140072,
          79.8422912678791,
          -30.84891119580078,
          131.97482964224403,
          57.79859317185839,
          284.87612188446656,
          129.00807738003664,
          55.420031984684,
          118.6754367953185,
          72.87687078218642,
          -43.091282695238334,
          -34.20378815680883,
          132.05536195401078,
          142.3006858966018,
          145.8545909627283,
          178.27161755097893,
          129.7927942303099,
          18.409156577583243,
          10.237738891564609,
          129.63548760471664,
          58.68823809001445,
          138.4400780751981,
          -40.86948193419282,
          411.2231224901099,
          120.91557539491535,
          40.67988994503765,
          -246.72224510004858,
          137.12391182262726,
          64.22381511316196,
          -147.85786485648396,
          101.14771131424307,
          -32.42044746137608,
          -169.58033009336557,
          31.209772165856123,
          93.12110237313898,
          -44.63978116025675,
          -162.34976380508357,
          -36.35356021616082,
          -186.61045830830193,
          -142.08966248349049,
          11.41678653636158,
          130.79417328435287,
          -6.67036085618317,
          217.50755514870437,
          -84.47700046534456,
          70.13627620227206,
          -27.080753850452563,
          -73.41995348594916,
          82.29717535011697,
          -40.20260707972469,
          -81.54645448438899,
          77.3881141054699,
          46.91068605254561,
          -122.28726738352712,
          -80.88261446856139,
          -120.63786912239378,
          -93.42504061059694,
          -53.5490215762206,
          40.69191782015753,
          70.73944708491302,
          -100.01448060173529,
          -56.95066977581805,
          -157.78560821558153,
          -186.1811176287173,
          30.985146867351123,
          -90.26391301612867,
          -15.228988668070391,
          -49.775276624937426,
          7.336235510088801,
          -236.31747177587374,
          -188.33759064139502,
          -163.74432335717836,
          29.703360386358106,
          196.49219407963312,
          219.5103654627325,
          -176.38674620511762,
          18.733236349935382,
          5.400106191340816,
          9.467213543459117,
          217.141333403817,
          29.52336406469822,
          65.28021072156436,
          170.66597687115174,
          -111.99495179467195,
          112.53746577440346,
          -63.88494999754836,
          -107.6366136115626,
          35.01937108836357,
          -78.57981417052547,
          -7.625075732584881,
          226.00943128874292,
          225.5659543442543,
          11.764393041561163,
          -114.5785070233256,
          -25.14825766697182,
          -77.63141209027538,
          -117.64006258306816,
          -105.26579447230407,
          76.97567062490197,
          -56.539685717054994,
          161.15369324778757,
          143.21244204978782
         ]
        },
        {
         "type": "surface",
         "x": [
          -5,
          -3.888888888888889,
          -2.7777777777777777,
          -1.6666666666666665,
          -0.5555555555555554,
          0.5555555555555554,
          1.666666666666667,
          2.7777777777777786,
          3.8888888888888893,
          5
         ],
         "y": [
          -5,
          -3.888888888888889,
          -2.7777777777777777,
          -1.6666666666666665,
          -0.5555555555555554,
          0.5555555555555554,
          1.666666666666667,
          2.7777777777777786,
          3.8888888888888893,
          5
         ],
         "z": [
          [
           -813.7723858633906,
           -726.7359957662075,
           -639.6996056690241,
           -552.6632155718409,
           -465.62682547465766,
           -378.5904353774744,
           -291.5540452802912,
           -204.51765518310788,
           -117.48126508592468,
           -30.444874988741493
          ],
          [
           -719.9704679909314,
           -632.9340778937483,
           -545.897687796565,
           -458.86129769938174,
           -371.8249076021985,
           -284.7885175050153,
           -197.75212740783206,
           -110.71573731064873,
           -23.679347213465554,
           63.35704288371763
          ],
          [
           -626.1685501184724,
           -539.1321600212891,
           -452.09576992410587,
           -365.0593798269226,
           -278.0229897297394,
           -190.9865996325562,
           -103.95020953537292,
           -16.913819438189616,
           70.12257065899357,
           157.15896075617675
          ],
          [
           -532.3666322460132,
           -445.33024214883,
           -358.29385205164675,
           -271.2574619544635,
           -184.22107185728026,
           -97.18468176009705,
           -10.148291662913792,
           76.88809843426951,
           163.92448853145268,
           250.96087862863587
          ],
          [
           -438.56471437355407,
           -351.5283242763709,
           -264.49193417918764,
           -177.4555440820044,
           -90.41915398482114,
           -3.382763887637932,
           83.65362620954534,
           170.6900163067286,
           257.7264064039118,
           344.762796501095
          ],
          [
           -344.762796501095,
           -257.7264064039118,
           -170.69001630672852,
           -83.65362620954528,
           3.382763887637955,
           90.41915398482116,
           177.45554408200442,
           264.4919341791877,
           351.5283242763709,
           438.56471437355407
          ],
          [
           -250.96087862863584,
           -163.92448853145265,
           -76.88809843426937,
           10.14829166291388,
           97.18468176009712,
           184.2210718572803,
           271.25746195446357,
           358.29385205164687,
           445.33024214883005,
           532.3666322460133
          ],
          [
           -157.15896075617667,
           -70.12257065899347,
           16.913819438189797,
           103.95020953537305,
           190.98659963255628,
           278.0229897297395,
           365.05937982692274,
           452.09576992410604,
           539.1321600212892,
           626.1685501184724
          ],
          [
           -63.35704288371757,
           23.679347213465615,
           110.71573731064889,
           197.75212740783212,
           284.78851750501536,
           371.82490760219855,
           458.8612976993818,
           545.8976877965652,
           632.9340778937483,
           719.9704679909315
          ],
          [
           30.444874988741514,
           117.4812650859247,
           204.51765518310796,
           291.55404528029123,
           378.5904353774744,
           465.62682547465766,
           552.663215571841,
           639.6996056690242,
           726.7359957662075,
           813.7723858633906
          ]
         ]
        }
       ],
       "layout": {
        "legend": {
         "tracegroupgap": 0
        },
        "margin": {
         "t": 60
        },
        "scene": {
         "domain": {
          "x": [
           0,
           1
          ],
          "y": [
           0,
           1
          ]
         },
         "xaxis": {
          "title": {
           "text": "feature1"
          }
         },
         "yaxis": {
          "title": {
           "text": "feature2"
          }
         },
         "zaxis": {
          "title": {
           "text": "target"
          }
         }
        },
        "template": {
         "data": {
          "bar": [
           {
            "error_x": {
             "color": "#2a3f5f"
            },
            "error_y": {
             "color": "#2a3f5f"
            },
            "marker": {
             "line": {
              "color": "#E5ECF6",
              "width": 0.5
             },
             "pattern": {
              "fillmode": "overlay",
              "size": 10,
              "solidity": 0.2
             }
            },
            "type": "bar"
           }
          ],
          "barpolar": [
           {
            "marker": {
             "line": {
              "color": "#E5ECF6",
              "width": 0.5
             },
             "pattern": {
              "fillmode": "overlay",
              "size": 10,
              "solidity": 0.2
             }
            },
            "type": "barpolar"
           }
          ],
          "carpet": [
           {
            "aaxis": {
             "endlinecolor": "#2a3f5f",
             "gridcolor": "white",
             "linecolor": "white",
             "minorgridcolor": "white",
             "startlinecolor": "#2a3f5f"
            },
            "baxis": {
             "endlinecolor": "#2a3f5f",
             "gridcolor": "white",
             "linecolor": "white",
             "minorgridcolor": "white",
             "startlinecolor": "#2a3f5f"
            },
            "type": "carpet"
           }
          ],
          "choropleth": [
           {
            "colorbar": {
             "outlinewidth": 0,
             "ticks": ""
            },
            "type": "choropleth"
           }
          ],
          "contour": [
           {
            "colorbar": {
             "outlinewidth": 0,
             "ticks": ""
            },
            "colorscale": [
             [
              0,
              "#0d0887"
             ],
             [
              0.1111111111111111,
              "#46039f"
             ],
             [
              0.2222222222222222,
              "#7201a8"
             ],
             [
              0.3333333333333333,
              "#9c179e"
             ],
             [
              0.4444444444444444,
              "#bd3786"
             ],
             [
              0.5555555555555556,
              "#d8576b"
             ],
             [
              0.6666666666666666,
              "#ed7953"
             ],
             [
              0.7777777777777778,
              "#fb9f3a"
             ],
             [
              0.8888888888888888,
              "#fdca26"
             ],
             [
              1,
              "#f0f921"
             ]
            ],
            "type": "contour"
           }
          ],
          "contourcarpet": [
           {
            "colorbar": {
             "outlinewidth": 0,
             "ticks": ""
            },
            "type": "contourcarpet"
           }
          ],
          "heatmap": [
           {
            "colorbar": {
             "outlinewidth": 0,
             "ticks": ""
            },
            "colorscale": [
             [
              0,
              "#0d0887"
             ],
             [
              0.1111111111111111,
              "#46039f"
             ],
             [
              0.2222222222222222,
              "#7201a8"
             ],
             [
              0.3333333333333333,
              "#9c179e"
             ],
             [
              0.4444444444444444,
              "#bd3786"
             ],
             [
              0.5555555555555556,
              "#d8576b"
             ],
             [
              0.6666666666666666,
              "#ed7953"
             ],
             [
              0.7777777777777778,
              "#fb9f3a"
             ],
             [
              0.8888888888888888,
              "#fdca26"
             ],
             [
              1,
              "#f0f921"
             ]
            ],
            "type": "heatmap"
           }
          ],
          "heatmapgl": [
           {
            "colorbar": {
             "outlinewidth": 0,
             "ticks": ""
            },
            "colorscale": [
             [
              0,
              "#0d0887"
             ],
             [
              0.1111111111111111,
              "#46039f"
             ],
             [
              0.2222222222222222,
              "#7201a8"
             ],
             [
              0.3333333333333333,
              "#9c179e"
             ],
             [
              0.4444444444444444,
              "#bd3786"
             ],
             [
              0.5555555555555556,
              "#d8576b"
             ],
             [
              0.6666666666666666,
              "#ed7953"
             ],
             [
              0.7777777777777778,
              "#fb9f3a"
             ],
             [
              0.8888888888888888,
              "#fdca26"
             ],
             [
              1,
              "#f0f921"
             ]
            ],
            "type": "heatmapgl"
           }
          ],
          "histogram": [
           {
            "marker": {
             "pattern": {
              "fillmode": "overlay",
              "size": 10,
              "solidity": 0.2
             }
            },
            "type": "histogram"
           }
          ],
          "histogram2d": [
           {
            "colorbar": {
             "outlinewidth": 0,
             "ticks": ""
            },
            "colorscale": [
             [
              0,
              "#0d0887"
             ],
             [
              0.1111111111111111,
              "#46039f"
             ],
             [
              0.2222222222222222,
              "#7201a8"
             ],
             [
              0.3333333333333333,
              "#9c179e"
             ],
             [
              0.4444444444444444,
              "#bd3786"
             ],
             [
              0.5555555555555556,
              "#d8576b"
             ],
             [
              0.6666666666666666,
              "#ed7953"
             ],
             [
              0.7777777777777778,
              "#fb9f3a"
             ],
             [
              0.8888888888888888,
              "#fdca26"
             ],
             [
              1,
              "#f0f921"
             ]
            ],
            "type": "histogram2d"
           }
          ],
          "histogram2dcontour": [
           {
            "colorbar": {
             "outlinewidth": 0,
             "ticks": ""
            },
            "colorscale": [
             [
              0,
              "#0d0887"
             ],
             [
              0.1111111111111111,
              "#46039f"
             ],
             [
              0.2222222222222222,
              "#7201a8"
             ],
             [
              0.3333333333333333,
              "#9c179e"
             ],
             [
              0.4444444444444444,
              "#bd3786"
             ],
             [
              0.5555555555555556,
              "#d8576b"
             ],
             [
              0.6666666666666666,
              "#ed7953"
             ],
             [
              0.7777777777777778,
              "#fb9f3a"
             ],
             [
              0.8888888888888888,
              "#fdca26"
             ],
             [
              1,
              "#f0f921"
             ]
            ],
            "type": "histogram2dcontour"
           }
          ],
          "mesh3d": [
           {
            "colorbar": {
             "outlinewidth": 0,
             "ticks": ""
            },
            "type": "mesh3d"
           }
          ],
          "parcoords": [
           {
            "line": {
             "colorbar": {
              "outlinewidth": 0,
              "ticks": ""
             }
            },
            "type": "parcoords"
           }
          ],
          "pie": [
           {
            "automargin": true,
            "type": "pie"
           }
          ],
          "scatter": [
           {
            "fillpattern": {
             "fillmode": "overlay",
             "size": 10,
             "solidity": 0.2
            },
            "type": "scatter"
           }
          ],
          "scatter3d": [
           {
            "line": {
             "colorbar": {
              "outlinewidth": 0,
              "ticks": ""
             }
            },
            "marker": {
             "colorbar": {
              "outlinewidth": 0,
              "ticks": ""
             }
            },
            "type": "scatter3d"
           }
          ],
          "scattercarpet": [
           {
            "marker": {
             "colorbar": {
              "outlinewidth": 0,
              "ticks": ""
             }
            },
            "type": "scattercarpet"
           }
          ],
          "scattergeo": [
           {
            "marker": {
             "colorbar": {
              "outlinewidth": 0,
              "ticks": ""
             }
            },
            "type": "scattergeo"
           }
          ],
          "scattergl": [
           {
            "marker": {
             "colorbar": {
              "outlinewidth": 0,
              "ticks": ""
             }
            },
            "type": "scattergl"
           }
          ],
          "scattermapbox": [
           {
            "marker": {
             "colorbar": {
              "outlinewidth": 0,
              "ticks": ""
             }
            },
            "type": "scattermapbox"
           }
          ],
          "scatterpolar": [
           {
            "marker": {
             "colorbar": {
              "outlinewidth": 0,
              "ticks": ""
             }
            },
            "type": "scatterpolar"
           }
          ],
          "scatterpolargl": [
           {
            "marker": {
             "colorbar": {
              "outlinewidth": 0,
              "ticks": ""
             }
            },
            "type": "scatterpolargl"
           }
          ],
          "scatterternary": [
           {
            "marker": {
             "colorbar": {
              "outlinewidth": 0,
              "ticks": ""
             }
            },
            "type": "scatterternary"
           }
          ],
          "surface": [
           {
            "colorbar": {
             "outlinewidth": 0,
             "ticks": ""
            },
            "colorscale": [
             [
              0,
              "#0d0887"
             ],
             [
              0.1111111111111111,
              "#46039f"
             ],
             [
              0.2222222222222222,
              "#7201a8"
             ],
             [
              0.3333333333333333,
              "#9c179e"
             ],
             [
              0.4444444444444444,
              "#bd3786"
             ],
             [
              0.5555555555555556,
              "#d8576b"
             ],
             [
              0.6666666666666666,
              "#ed7953"
             ],
             [
              0.7777777777777778,
              "#fb9f3a"
             ],
             [
              0.8888888888888888,
              "#fdca26"
             ],
             [
              1,
              "#f0f921"
             ]
            ],
            "type": "surface"
           }
          ],
          "table": [
           {
            "cells": {
             "fill": {
              "color": "#EBF0F8"
             },
             "line": {
              "color": "white"
             }
            },
            "header": {
             "fill": {
              "color": "#C8D4E3"
             },
             "line": {
              "color": "white"
             }
            },
            "type": "table"
           }
          ]
         },
         "layout": {
          "annotationdefaults": {
           "arrowcolor": "#2a3f5f",
           "arrowhead": 0,
           "arrowwidth": 1
          },
          "autotypenumbers": "strict",
          "coloraxis": {
           "colorbar": {
            "outlinewidth": 0,
            "ticks": ""
           }
          },
          "colorscale": {
           "diverging": [
            [
             0,
             "#8e0152"
            ],
            [
             0.1,
             "#c51b7d"
            ],
            [
             0.2,
             "#de77ae"
            ],
            [
             0.3,
             "#f1b6da"
            ],
            [
             0.4,
             "#fde0ef"
            ],
            [
             0.5,
             "#f7f7f7"
            ],
            [
             0.6,
             "#e6f5d0"
            ],
            [
             0.7,
             "#b8e186"
            ],
            [
             0.8,
             "#7fbc41"
            ],
            [
             0.9,
             "#4d9221"
            ],
            [
             1,
             "#276419"
            ]
           ],
           "sequential": [
            [
             0,
             "#0d0887"
            ],
            [
             0.1111111111111111,
             "#46039f"
            ],
            [
             0.2222222222222222,
             "#7201a8"
            ],
            [
             0.3333333333333333,
             "#9c179e"
            ],
            [
             0.4444444444444444,
             "#bd3786"
            ],
            [
             0.5555555555555556,
             "#d8576b"
            ],
            [
             0.6666666666666666,
             "#ed7953"
            ],
            [
             0.7777777777777778,
             "#fb9f3a"
            ],
            [
             0.8888888888888888,
             "#fdca26"
            ],
            [
             1,
             "#f0f921"
            ]
           ],
           "sequentialminus": [
            [
             0,
             "#0d0887"
            ],
            [
             0.1111111111111111,
             "#46039f"
            ],
            [
             0.2222222222222222,
             "#7201a8"
            ],
            [
             0.3333333333333333,
             "#9c179e"
            ],
            [
             0.4444444444444444,
             "#bd3786"
            ],
            [
             0.5555555555555556,
             "#d8576b"
            ],
            [
             0.6666666666666666,
             "#ed7953"
            ],
            [
             0.7777777777777778,
             "#fb9f3a"
            ],
            [
             0.8888888888888888,
             "#fdca26"
            ],
            [
             1,
             "#f0f921"
            ]
           ]
          },
          "colorway": [
           "#636efa",
           "#EF553B",
           "#00cc96",
           "#ab63fa",
           "#FFA15A",
           "#19d3f3",
           "#FF6692",
           "#B6E880",
           "#FF97FF",
           "#FECB52"
          ],
          "font": {
           "color": "#2a3f5f"
          },
          "geo": {
           "bgcolor": "white",
           "lakecolor": "white",
           "landcolor": "#E5ECF6",
           "showlakes": true,
           "showland": true,
           "subunitcolor": "white"
          },
          "hoverlabel": {
           "align": "left"
          },
          "hovermode": "closest",
          "mapbox": {
           "style": "light"
          },
          "paper_bgcolor": "white",
          "plot_bgcolor": "#E5ECF6",
          "polar": {
           "angularaxis": {
            "gridcolor": "white",
            "linecolor": "white",
            "ticks": ""
           },
           "bgcolor": "#E5ECF6",
           "radialaxis": {
            "gridcolor": "white",
            "linecolor": "white",
            "ticks": ""
           }
          },
          "scene": {
           "xaxis": {
            "backgroundcolor": "#E5ECF6",
            "gridcolor": "white",
            "gridwidth": 2,
            "linecolor": "white",
            "showbackground": true,
            "ticks": "",
            "zerolinecolor": "white"
           },
           "yaxis": {
            "backgroundcolor": "#E5ECF6",
            "gridcolor": "white",
            "gridwidth": 2,
            "linecolor": "white",
            "showbackground": true,
            "ticks": "",
            "zerolinecolor": "white"
           },
           "zaxis": {
            "backgroundcolor": "#E5ECF6",
            "gridcolor": "white",
            "gridwidth": 2,
            "linecolor": "white",
            "showbackground": true,
            "ticks": "",
            "zerolinecolor": "white"
           }
          },
          "shapedefaults": {
           "line": {
            "color": "#2a3f5f"
           }
          },
          "ternary": {
           "aaxis": {
            "gridcolor": "white",
            "linecolor": "white",
            "ticks": ""
           },
           "baxis": {
            "gridcolor": "white",
            "linecolor": "white",
            "ticks": ""
           },
           "bgcolor": "#E5ECF6",
           "caxis": {
            "gridcolor": "white",
            "linecolor": "white",
            "ticks": ""
           }
          },
          "title": {
           "x": 0.05
          },
          "xaxis": {
           "automargin": true,
           "gridcolor": "white",
           "linecolor": "white",
           "ticks": "",
           "title": {
            "standoff": 15
           },
           "zerolinecolor": "white",
           "zerolinewidth": 2
          },
          "yaxis": {
           "automargin": true,
           "gridcolor": "white",
           "linecolor": "white",
           "ticks": "",
           "title": {
            "standoff": 15
           },
           "zerolinecolor": "white",
           "zerolinewidth": 2
          }
         }
        }
       }
      },
      "text/html": [
       "<div>                            <div id=\"7c2128c8-146e-407b-ac3c-3f794e7e3062\" class=\"plotly-graph-div\" style=\"height:525px; width:100%;\"></div>            <script type=\"text/javascript\">                require([\"plotly\"], function(Plotly) {                    window.PLOTLYENV=window.PLOTLYENV || {};                                    if (document.getElementById(\"7c2128c8-146e-407b-ac3c-3f794e7e3062\")) {                    Plotly.newPlot(                        \"7c2128c8-146e-407b-ac3c-3f794e7e3062\",                        [{\"hovertemplate\":\"feature1=%{x}<br>feature2=%{y}<br>target=%{z}<extra></extra>\",\"legendgroup\":\"\",\"marker\":{\"color\":\"#636efa\",\"symbol\":\"circle\"},\"mode\":\"markers\",\"name\":\"\",\"scene\":\"scene\",\"showlegend\":false,\"x\":[-2.072643286286622,-2.0223871481690203,0.5014808203512032,1.12404374987932,-0.7646901325480701,0.22847666457746682,-0.9020466350147233,-0.3235909914911978,0.3167290079108491,-0.5741653576229004,0.6951699401830526,-1.2951067441992739,-0.17696687918455364,0.38768800971682943,2.037428951633989,-0.44333228027165117,-0.16654440239444357,1.1744567782154847,0.3498699718510786,0.48624447084720746,0.5454571100417844,-1.392477074756456,0.1922318877888267,0.6538382701473298,-0.30973603125061555,-1.509870477785931,1.1959112721300869,0.14090553073547016,-0.0031333136761245487,-0.27790408178420767,0.0830321517690187,-0.2661637143982678,-0.12665644365698114,1.331512583170913,0.5210179917649621,1.2706594333909247,-1.7513631796802211,-1.808959935840803,-1.4121622844192991,0.3779176268954493,-1.1131734948228476,0.5896552576622303,2.51232359808901,-1.1885647247511066,1.3352671882006217,1.10291656572248,0.7568132356829577,0.8739825298041594,0.09306609228691208,-1.4621407776509907,-0.8464741797534525,-0.8274739279793807,-0.04151158744046981,-2.1220739963110837,-1.2308752110955485,0.025638723589129435,-0.14404871652764137,-0.29516972266127794,-1.1327621751973478,0.5472265274771392,0.21422629822645256,0.36590598540003466,0.5830697842407111,-1.183410997209021,-0.404009351673341,-0.33381578426262015,-1.1411324205452527,0.5236883751692135,-0.480541319304267,-0.2944660900675271,-0.5752601470726223,-1.1410510162510936,-0.18267788208651997,0.5675357077160775,-0.5767637814898952,1.248257304980907,-0.22652680576300338,-1.538061939753312,2.0609665172758396,-1.1669964171025713,-0.7832053371097196,-0.5815036467435345,-0.10477292221801872,1.2895407007449755,0.5313084053620994,-1.8530034113490936,0.441661060508884,0.34207729961333,1.5069154680318348,-1.1196432765329443,1.1685501829211244,1.4492110162033767,-0.507545591189765,0.6392011983283654,-0.6479441136983787,-0.2970272488522146,-1.084918718826558,0.954366464201799,0.09222786673305472,1.9763359666600333,-0.7073891230784315,-0.11556764230341621,1.2778550957048371,2.2108006720455227,1.0423296915745883,0.7846232013679454,0.7401803968297914,-1.055371545114305,-0.02531691775212687,0.3716616372843284,0.3472120887333007,1.6288895335136981,1.5697342877493734,1.4167141393259746,1.0070089679070804,-0.6917945086737414,0.5562646526625163,1.3777629681980357,-0.0761133375947919,0.8015897454424016,-1.6731595486872937,3.265789189470997,0.8976201291599497,0.3673749826504266,-1.5713785977332526,0.879244741293047,-0.8549084830131806,-0.3241523583880148,0.11634328029487137,-1.9534320758619894,-1.4256249434075055,0.41427825170744903,1.19073992397563,-0.2518373994672449,-1.6896897655596652,0.13518948355439392,-0.17227350949417594,-0.9432057864042015,-0.147040889661398,1.773275743795651,-0.0968140926306723,3.000493651622337,-1.517440301634952,-0.8689751461520683,0.7428559180962815,-1.9962952789269475,0.9377816345679906,0.10424808396645599,-1.9647992886118217,0.5177420394076026,-0.036510212539587784,-0.6242269685126611,-0.6287086853812635,-1.0549143169121515,-1.2052925802485297,-0.22488441405950743,-0.09919228217139058,-0.951449527217563,-2.225348203917427,0.6290329229848671,-1.0103019863963034,-0.9555892387679317,0.0702026864672872,-0.6332762652440527,-0.5119416932737476,-0.12902115376615977,-0.3357323531612091,-0.6203495791976568,-0.9573928341715846,-2.210955223956298,0.3596980466858719,1.8571609388134587,-0.1436947780650761,-0.6043927412910554,0.7738079840245274,-0.49789862382539557,0.6616344473741567,0.5167216488716178,0.33403312621048314,1.7513503722154469,-0.22973020744955566,-1.409101103025384,1.0020012406751093,-1.556525683358598,-0.5186843842849471,0.5192764062960239,-0.2647906474383715,0.7329609317506932,1.1488081593462047,1.7388046824362022,-0.5148442427245635,-0.5953450475703767,0.475182674905928,-0.5633006458699212,0.2261742749026787,-0.35591359485009916,0.2947665122926425,-1.055773051469967,1.910881926731767,-0.33854282063884933],\"y\":[-0.3211084672956968,-0.5627650606892513,0.8310215557309031,-1.280979559725324,1.715786422099189,0.2466170592400409,-1.0069414875429772,0.770540386426003,-0.485846387876803,0.25008560459241785,-0.6682606450500445,-0.7011314274229677,1.9809493586482616,0.6933222133681634,0.34214730558587314,0.27444304355868543,-0.2790250418158427,-0.6307165535761731,-0.3216031105595295,-0.3367022063395168,1.3037998394689219,-0.8156887422500733,-1.9424212489116357,-0.6832760840654075,1.5348654340027585,-0.5148937530307924,0.7804677205456793,0.871616138524385,1.9865977554639789,-0.28902223477659994,0.6393282716900747,-0.6620669558625635,0.37057386395986236,1.4292699684419863,-0.025854102637865868,0.012464616756012159,0.4847312454719492,-1.8105161418652538,-1.277344319780213,0.3551039585375082,-1.4851137197915756,1.441805923143567,0.7433403426073325,0.5129918524379962,-0.6016822215420207,-0.9887934524153859,-0.08021393070481572,-1.0420692333568178,0.33940438237688025,0.9459768714589016,0.32742730193826247,0.6596413570945225,-0.14184038984136935,0.5414973221372176,0.7172581075951917,-1.0763470523676026,-0.5037880026790146,0.40620804214709283,0.670320068157908,0.894455491595971,-0.7575229907129374,-0.3024619315899217,-1.9912025936619377,-0.2812810253579272,0.9600526841141672,-0.7539268937284764,0.2009651071296643,1.0582338773324245,0.4253849863640103,-0.16579151226951272,-0.3048379086603492,1.638072340369234,-1.1396687631654947,1.203372135020365,-0.7106868796958666,0.6815066493766271,0.1010993568484711,-0.1647353946715487,-0.6866072091355307,-0.057841906557456996,-1.2492283647165783,0.9222582350941534,1.658319965708717,1.8042892510580002,0.5786541171732258,-0.6715947904025159,-0.9969430464622324,-0.8792652351558051,0.850875937265991,-0.06746391148668593,-1.528561750988595,-1.4986773666365918,1.41643479543196,1.7884143531747123,0.0902717335392509,-2.1175705156383806,0.2434720149436486,0.7740540519759829,-2.5555618116805765,-0.8880361199678976,0.2909538343185364,1.670512645740184,-0.5010477033262886,1.3230957043496059,0.5609874056714608,-0.0715652501516343,0.7189508296639824,1.842499964682231,-0.48693791023848054,-0.7500091459282772,1.2420651495192834,0.17418842519345634,0.2711741016037764,0.7971467136923732,0.6030557981367429,0.8599601902941244,-0.39487467539522697,0.2571793419316983,0.7658029303144892,0.8960886205386936,1.0683708176222855,1.840816079148666,0.5994016421229537,0.14098736694042582,-1.4644552092532348,0.8084441709835033,1.5539974672298738,-1.4506469428124054,1.0901722384272106,1.4285097769934583,-0.6859277693385967,-0.01470928235748394,-0.0018103361378390543,-0.2950977904447058,-0.35526063461659924,-0.5560573866220956,-2.0506072121220518,-0.8079171269726044,0.2716706351483184,-0.09608183272210573,0.010818937327722081,-0.207640473799988,0.4073391361129355,1.6370843909006798,-1.0100563626295502,0.9826303197305324,0.10469058623825903,-0.572940740912974,0.8571452217670676,0.4362852729149423,0.5895476644640303,-0.8693242254116454,-0.37471554985896544,-0.45016289383554425,0.011713134893513359,-0.42563932784289116,0.5740456209148146,1.7207549858208457,0.8801427047779804,-1.258260806591322,-0.9315833475454577,-1.3187030022825872,0.30188884407448446,-0.4816016308423748,0.29462572865818115,-0.4698872735901501,0.3984172786081652,-2.223643027766174,-1.3425735450481642,0.11188922928424688,0.018090400415704238,0.6042954923558663,2.733495078180972,-1.528552021220722,-0.4960958960952412,0.52595317837293,-0.5017716990391244,2.09264976320113,0.03977211187195607,-0.8517698628851179,2.234749095726131,-0.019144193198337607,0.40330793479515015,0.6875243093186767,-0.7937132057307146,-0.06700856111264644,-0.6851084072370962,-0.7704168698303856,1.611198135870056,1.0585024034578794,0.6170634192332993,-0.8048105002290509,-0.7387982543557352,-0.3968945479285511,-1.6033421968271713,-0.9166609950636971,0.638293023459047,0.3098956055718155,0.13585430499248868,2.0105183869376972],\"z\":[-189.46438170747498,-205.92874688384805,109.43864642453053,-20.093066241171037,84.94936953525738,38.71704351874444,-155.66753297508393,39.70257684982446,-16.205736137965523,-23.86329363296382,-1.9611432420959232,-160.63999954069502,153.37286164659332,88.9001263505039,188.48208103970398,-11.558481710253842,-36.60165686886677,38.752250347522,0.255987710179704,9.663885666648696,152.79618894738132,-177.9384116609264,-148.92450200048032,-6.4663959426376305,105.31351380826915,-161.7405276920699,159.56745212471756,84.62085676390562,167.46657047300866,-46.16874720143912,60.47733310793142,-76.74217118637489,21.363137562952765,224.96248152498515,38.63012468994266,100.58653357428358,-96.26724758746448,-294.54770618281947,-218.45416900151082,59.58181651859506,-212.57380594475794,167.90906323753464,259.55129385195517,-49.79588708480291,53.800100591215255,2.918838818316493,52.51146432427173,-19.51182741833543,35.94322684293568,-34.6725092653169,-38.66467322754072,-9.130247268663478,-15.226127385227798,-120.51375553687316,-35.86567403867861,-88.85872427449685,-53.81438502341295,11.171327653970728,-32.14280032758066,118.37723587225429,-47.17046312985743,3.128064135865566,-122.42729966674486,-116.44606875427759,49.40214074402414,-89.7965184483318,-72.42222062962142,130.35988166578,-1.7303887527184398,-37.06274457302867,-70.79665233649138,48.907229192320024,-110.52246521849978,146.0473860870392,-105.17690682175225,155.3133964431041,-9.209485679218975,-134.38786944930047,103.47661145959505,-96.2971534524991,-166.81264354617147,32.30785168613647,131.79108266989118,253.33448365992416,90.46982844598615,-201.8480464210491,-49.56712687312447,-47.4332328752909,189.87324957555683,-93.40015794357471,-37.5080708343212,-13.000244330832047,79.82042785731396,201.05141501404447,-43.13434941483509,-202.03591958788215,-64.43034019698433,140.10512983760927,-208.52047673140072,79.8422912678791,-30.84891119580078,131.97482964224403,57.79859317185839,284.87612188446656,129.00807738003664,55.420031984684,118.6754367953185,72.87687078218642,-43.091282695238334,-34.20378815680883,132.05536195401078,142.3006858966018,145.8545909627283,178.27161755097893,129.7927942303099,18.409156577583243,10.237738891564609,129.63548760471664,58.68823809001445,138.4400780751981,-40.86948193419282,411.2231224901099,120.91557539491535,40.67988994503765,-246.72224510004858,137.12391182262726,64.22381511316196,-147.85786485648396,101.14771131424307,-32.42044746137608,-169.58033009336557,31.209772165856123,93.12110237313898,-44.63978116025675,-162.34976380508357,-36.35356021616082,-186.61045830830193,-142.08966248349049,11.41678653636158,130.79417328435287,-6.67036085618317,217.50755514870437,-84.47700046534456,70.13627620227206,-27.080753850452563,-73.41995348594916,82.29717535011697,-40.20260707972469,-81.54645448438899,77.3881141054699,46.91068605254561,-122.28726738352712,-80.88261446856139,-120.63786912239378,-93.42504061059694,-53.5490215762206,40.69191782015753,70.73944708491302,-100.01448060173529,-56.95066977581805,-157.78560821558153,-186.1811176287173,30.985146867351123,-90.26391301612867,-15.228988668070391,-49.775276624937426,7.336235510088801,-236.31747177587374,-188.33759064139502,-163.74432335717836,29.703360386358106,196.49219407963312,219.5103654627325,-176.38674620511762,18.733236349935382,5.400106191340816,9.467213543459117,217.141333403817,29.52336406469822,65.28021072156436,170.66597687115174,-111.99495179467195,112.53746577440346,-63.88494999754836,-107.6366136115626,35.01937108836357,-78.57981417052547,-7.625075732584881,226.00943128874292,225.5659543442543,11.764393041561163,-114.5785070233256,-25.14825766697182,-77.63141209027538,-117.64006258306816,-105.26579447230407,76.97567062490197,-56.539685717054994,161.15369324778757,143.21244204978782],\"type\":\"scatter3d\"},{\"x\":[-5.0,-3.888888888888889,-2.7777777777777777,-1.6666666666666665,-0.5555555555555554,0.5555555555555554,1.666666666666667,2.7777777777777786,3.8888888888888893,5.0],\"y\":[-5.0,-3.888888888888889,-2.7777777777777777,-1.6666666666666665,-0.5555555555555554,0.5555555555555554,1.666666666666667,2.7777777777777786,3.8888888888888893,5.0],\"z\":[[-813.7723858633906,-726.7359957662075,-639.6996056690241,-552.6632155718409,-465.62682547465766,-378.5904353774744,-291.5540452802912,-204.51765518310788,-117.48126508592468,-30.444874988741493],[-719.9704679909314,-632.9340778937483,-545.897687796565,-458.86129769938174,-371.8249076021985,-284.7885175050153,-197.75212740783206,-110.71573731064873,-23.679347213465554,63.35704288371763],[-626.1685501184724,-539.1321600212891,-452.09576992410587,-365.0593798269226,-278.0229897297394,-190.9865996325562,-103.95020953537292,-16.913819438189616,70.12257065899357,157.15896075617675],[-532.3666322460132,-445.33024214883,-358.29385205164675,-271.2574619544635,-184.22107185728026,-97.18468176009705,-10.148291662913792,76.88809843426951,163.92448853145268,250.96087862863587],[-438.56471437355407,-351.5283242763709,-264.49193417918764,-177.4555440820044,-90.41915398482114,-3.382763887637932,83.65362620954534,170.6900163067286,257.7264064039118,344.762796501095],[-344.762796501095,-257.7264064039118,-170.69001630672852,-83.65362620954528,3.382763887637955,90.41915398482116,177.45554408200442,264.4919341791877,351.5283242763709,438.56471437355407],[-250.96087862863584,-163.92448853145265,-76.88809843426937,10.14829166291388,97.18468176009712,184.2210718572803,271.25746195446357,358.29385205164687,445.33024214883005,532.3666322460133],[-157.15896075617667,-70.12257065899347,16.913819438189797,103.95020953537305,190.98659963255628,278.0229897297395,365.05937982692274,452.09576992410604,539.1321600212892,626.1685501184724],[-63.35704288371757,23.679347213465615,110.71573731064889,197.75212740783212,284.78851750501536,371.82490760219855,458.8612976993818,545.8976877965652,632.9340778937483,719.9704679909315],[30.444874988741514,117.4812650859247,204.51765518310796,291.55404528029123,378.5904353774744,465.62682547465766,552.663215571841,639.6996056690242,726.7359957662075,813.7723858633906]],\"type\":\"surface\"}],                        {\"template\":{\"data\":{\"histogram2dcontour\":[{\"type\":\"histogram2dcontour\",\"colorbar\":{\"outlinewidth\":0,\"ticks\":\"\"},\"colorscale\":[[0.0,\"#0d0887\"],[0.1111111111111111,\"#46039f\"],[0.2222222222222222,\"#7201a8\"],[0.3333333333333333,\"#9c179e\"],[0.4444444444444444,\"#bd3786\"],[0.5555555555555556,\"#d8576b\"],[0.6666666666666666,\"#ed7953\"],[0.7777777777777778,\"#fb9f3a\"],[0.8888888888888888,\"#fdca26\"],[1.0,\"#f0f921\"]]}],\"choropleth\":[{\"type\":\"choropleth\",\"colorbar\":{\"outlinewidth\":0,\"ticks\":\"\"}}],\"histogram2d\":[{\"type\":\"histogram2d\",\"colorbar\":{\"outlinewidth\":0,\"ticks\":\"\"},\"colorscale\":[[0.0,\"#0d0887\"],[0.1111111111111111,\"#46039f\"],[0.2222222222222222,\"#7201a8\"],[0.3333333333333333,\"#9c179e\"],[0.4444444444444444,\"#bd3786\"],[0.5555555555555556,\"#d8576b\"],[0.6666666666666666,\"#ed7953\"],[0.7777777777777778,\"#fb9f3a\"],[0.8888888888888888,\"#fdca26\"],[1.0,\"#f0f921\"]]}],\"heatmap\":[{\"type\":\"heatmap\",\"colorbar\":{\"outlinewidth\":0,\"ticks\":\"\"},\"colorscale\":[[0.0,\"#0d0887\"],[0.1111111111111111,\"#46039f\"],[0.2222222222222222,\"#7201a8\"],[0.3333333333333333,\"#9c179e\"],[0.4444444444444444,\"#bd3786\"],[0.5555555555555556,\"#d8576b\"],[0.6666666666666666,\"#ed7953\"],[0.7777777777777778,\"#fb9f3a\"],[0.8888888888888888,\"#fdca26\"],[1.0,\"#f0f921\"]]}],\"heatmapgl\":[{\"type\":\"heatmapgl\",\"colorbar\":{\"outlinewidth\":0,\"ticks\":\"\"},\"colorscale\":[[0.0,\"#0d0887\"],[0.1111111111111111,\"#46039f\"],[0.2222222222222222,\"#7201a8\"],[0.3333333333333333,\"#9c179e\"],[0.4444444444444444,\"#bd3786\"],[0.5555555555555556,\"#d8576b\"],[0.6666666666666666,\"#ed7953\"],[0.7777777777777778,\"#fb9f3a\"],[0.8888888888888888,\"#fdca26\"],[1.0,\"#f0f921\"]]}],\"contourcarpet\":[{\"type\":\"contourcarpet\",\"colorbar\":{\"outlinewidth\":0,\"ticks\":\"\"}}],\"contour\":[{\"type\":\"contour\",\"colorbar\":{\"outlinewidth\":0,\"ticks\":\"\"},\"colorscale\":[[0.0,\"#0d0887\"],[0.1111111111111111,\"#46039f\"],[0.2222222222222222,\"#7201a8\"],[0.3333333333333333,\"#9c179e\"],[0.4444444444444444,\"#bd3786\"],[0.5555555555555556,\"#d8576b\"],[0.6666666666666666,\"#ed7953\"],[0.7777777777777778,\"#fb9f3a\"],[0.8888888888888888,\"#fdca26\"],[1.0,\"#f0f921\"]]}],\"surface\":[{\"type\":\"surface\",\"colorbar\":{\"outlinewidth\":0,\"ticks\":\"\"},\"colorscale\":[[0.0,\"#0d0887\"],[0.1111111111111111,\"#46039f\"],[0.2222222222222222,\"#7201a8\"],[0.3333333333333333,\"#9c179e\"],[0.4444444444444444,\"#bd3786\"],[0.5555555555555556,\"#d8576b\"],[0.6666666666666666,\"#ed7953\"],[0.7777777777777778,\"#fb9f3a\"],[0.8888888888888888,\"#fdca26\"],[1.0,\"#f0f921\"]]}],\"mesh3d\":[{\"type\":\"mesh3d\",\"colorbar\":{\"outlinewidth\":0,\"ticks\":\"\"}}],\"scatter\":[{\"fillpattern\":{\"fillmode\":\"overlay\",\"size\":10,\"solidity\":0.2},\"type\":\"scatter\"}],\"parcoords\":[{\"type\":\"parcoords\",\"line\":{\"colorbar\":{\"outlinewidth\":0,\"ticks\":\"\"}}}],\"scatterpolargl\":[{\"type\":\"scatterpolargl\",\"marker\":{\"colorbar\":{\"outlinewidth\":0,\"ticks\":\"\"}}}],\"bar\":[{\"error_x\":{\"color\":\"#2a3f5f\"},\"error_y\":{\"color\":\"#2a3f5f\"},\"marker\":{\"line\":{\"color\":\"#E5ECF6\",\"width\":0.5},\"pattern\":{\"fillmode\":\"overlay\",\"size\":10,\"solidity\":0.2}},\"type\":\"bar\"}],\"scattergeo\":[{\"type\":\"scattergeo\",\"marker\":{\"colorbar\":{\"outlinewidth\":0,\"ticks\":\"\"}}}],\"scatterpolar\":[{\"type\":\"scatterpolar\",\"marker\":{\"colorbar\":{\"outlinewidth\":0,\"ticks\":\"\"}}}],\"histogram\":[{\"marker\":{\"pattern\":{\"fillmode\":\"overlay\",\"size\":10,\"solidity\":0.2}},\"type\":\"histogram\"}],\"scattergl\":[{\"type\":\"scattergl\",\"marker\":{\"colorbar\":{\"outlinewidth\":0,\"ticks\":\"\"}}}],\"scatter3d\":[{\"type\":\"scatter3d\",\"line\":{\"colorbar\":{\"outlinewidth\":0,\"ticks\":\"\"}},\"marker\":{\"colorbar\":{\"outlinewidth\":0,\"ticks\":\"\"}}}],\"scattermapbox\":[{\"type\":\"scattermapbox\",\"marker\":{\"colorbar\":{\"outlinewidth\":0,\"ticks\":\"\"}}}],\"scatterternary\":[{\"type\":\"scatterternary\",\"marker\":{\"colorbar\":{\"outlinewidth\":0,\"ticks\":\"\"}}}],\"scattercarpet\":[{\"type\":\"scattercarpet\",\"marker\":{\"colorbar\":{\"outlinewidth\":0,\"ticks\":\"\"}}}],\"carpet\":[{\"aaxis\":{\"endlinecolor\":\"#2a3f5f\",\"gridcolor\":\"white\",\"linecolor\":\"white\",\"minorgridcolor\":\"white\",\"startlinecolor\":\"#2a3f5f\"},\"baxis\":{\"endlinecolor\":\"#2a3f5f\",\"gridcolor\":\"white\",\"linecolor\":\"white\",\"minorgridcolor\":\"white\",\"startlinecolor\":\"#2a3f5f\"},\"type\":\"carpet\"}],\"table\":[{\"cells\":{\"fill\":{\"color\":\"#EBF0F8\"},\"line\":{\"color\":\"white\"}},\"header\":{\"fill\":{\"color\":\"#C8D4E3\"},\"line\":{\"color\":\"white\"}},\"type\":\"table\"}],\"barpolar\":[{\"marker\":{\"line\":{\"color\":\"#E5ECF6\",\"width\":0.5},\"pattern\":{\"fillmode\":\"overlay\",\"size\":10,\"solidity\":0.2}},\"type\":\"barpolar\"}],\"pie\":[{\"automargin\":true,\"type\":\"pie\"}]},\"layout\":{\"autotypenumbers\":\"strict\",\"colorway\":[\"#636efa\",\"#EF553B\",\"#00cc96\",\"#ab63fa\",\"#FFA15A\",\"#19d3f3\",\"#FF6692\",\"#B6E880\",\"#FF97FF\",\"#FECB52\"],\"font\":{\"color\":\"#2a3f5f\"},\"hovermode\":\"closest\",\"hoverlabel\":{\"align\":\"left\"},\"paper_bgcolor\":\"white\",\"plot_bgcolor\":\"#E5ECF6\",\"polar\":{\"bgcolor\":\"#E5ECF6\",\"angularaxis\":{\"gridcolor\":\"white\",\"linecolor\":\"white\",\"ticks\":\"\"},\"radialaxis\":{\"gridcolor\":\"white\",\"linecolor\":\"white\",\"ticks\":\"\"}},\"ternary\":{\"bgcolor\":\"#E5ECF6\",\"aaxis\":{\"gridcolor\":\"white\",\"linecolor\":\"white\",\"ticks\":\"\"},\"baxis\":{\"gridcolor\":\"white\",\"linecolor\":\"white\",\"ticks\":\"\"},\"caxis\":{\"gridcolor\":\"white\",\"linecolor\":\"white\",\"ticks\":\"\"}},\"coloraxis\":{\"colorbar\":{\"outlinewidth\":0,\"ticks\":\"\"}},\"colorscale\":{\"sequential\":[[0.0,\"#0d0887\"],[0.1111111111111111,\"#46039f\"],[0.2222222222222222,\"#7201a8\"],[0.3333333333333333,\"#9c179e\"],[0.4444444444444444,\"#bd3786\"],[0.5555555555555556,\"#d8576b\"],[0.6666666666666666,\"#ed7953\"],[0.7777777777777778,\"#fb9f3a\"],[0.8888888888888888,\"#fdca26\"],[1.0,\"#f0f921\"]],\"sequentialminus\":[[0.0,\"#0d0887\"],[0.1111111111111111,\"#46039f\"],[0.2222222222222222,\"#7201a8\"],[0.3333333333333333,\"#9c179e\"],[0.4444444444444444,\"#bd3786\"],[0.5555555555555556,\"#d8576b\"],[0.6666666666666666,\"#ed7953\"],[0.7777777777777778,\"#fb9f3a\"],[0.8888888888888888,\"#fdca26\"],[1.0,\"#f0f921\"]],\"diverging\":[[0,\"#8e0152\"],[0.1,\"#c51b7d\"],[0.2,\"#de77ae\"],[0.3,\"#f1b6da\"],[0.4,\"#fde0ef\"],[0.5,\"#f7f7f7\"],[0.6,\"#e6f5d0\"],[0.7,\"#b8e186\"],[0.8,\"#7fbc41\"],[0.9,\"#4d9221\"],[1,\"#276419\"]]},\"xaxis\":{\"gridcolor\":\"white\",\"linecolor\":\"white\",\"ticks\":\"\",\"title\":{\"standoff\":15},\"zerolinecolor\":\"white\",\"automargin\":true,\"zerolinewidth\":2},\"yaxis\":{\"gridcolor\":\"white\",\"linecolor\":\"white\",\"ticks\":\"\",\"title\":{\"standoff\":15},\"zerolinecolor\":\"white\",\"automargin\":true,\"zerolinewidth\":2},\"scene\":{\"xaxis\":{\"backgroundcolor\":\"#E5ECF6\",\"gridcolor\":\"white\",\"linecolor\":\"white\",\"showbackground\":true,\"ticks\":\"\",\"zerolinecolor\":\"white\",\"gridwidth\":2},\"yaxis\":{\"backgroundcolor\":\"#E5ECF6\",\"gridcolor\":\"white\",\"linecolor\":\"white\",\"showbackground\":true,\"ticks\":\"\",\"zerolinecolor\":\"white\",\"gridwidth\":2},\"zaxis\":{\"backgroundcolor\":\"#E5ECF6\",\"gridcolor\":\"white\",\"linecolor\":\"white\",\"showbackground\":true,\"ticks\":\"\",\"zerolinecolor\":\"white\",\"gridwidth\":2}},\"shapedefaults\":{\"line\":{\"color\":\"#2a3f5f\"}},\"annotationdefaults\":{\"arrowcolor\":\"#2a3f5f\",\"arrowhead\":0,\"arrowwidth\":1},\"geo\":{\"bgcolor\":\"white\",\"landcolor\":\"#E5ECF6\",\"subunitcolor\":\"white\",\"showland\":true,\"showlakes\":true,\"lakecolor\":\"white\"},\"title\":{\"x\":0.05},\"mapbox\":{\"style\":\"light\"}}},\"scene\":{\"domain\":{\"x\":[0.0,1.0],\"y\":[0.0,1.0]},\"xaxis\":{\"title\":{\"text\":\"feature1\"}},\"yaxis\":{\"title\":{\"text\":\"feature2\"}},\"zaxis\":{\"title\":{\"text\":\"target\"}}},\"legend\":{\"tracegroupgap\":0},\"margin\":{\"t\":60}},                        {\"responsive\": true}                    ).then(function(){\n",
       "                            \n",
       "var gd = document.getElementById('7c2128c8-146e-407b-ac3c-3f794e7e3062');\n",
       "var x = new MutationObserver(function (mutations, observer) {{\n",
       "        var display = window.getComputedStyle(gd).display;\n",
       "        if (!display || display === 'none') {{\n",
       "            console.log([gd, 'removed!']);\n",
       "            Plotly.purge(gd);\n",
       "            observer.disconnect();\n",
       "        }}\n",
       "}});\n",
       "\n",
       "// Listen for the removal of the full notebook cells\n",
       "var notebookContainer = gd.closest('#notebook-container');\n",
       "if (notebookContainer) {{\n",
       "    x.observe(notebookContainer, {childList: true});\n",
       "}}\n",
       "\n",
       "// Listen for the clearing of the current output cell\n",
       "var outputEl = gd.closest('.output');\n",
       "if (outputEl) {{\n",
       "    x.observe(outputEl, {childList: true});\n",
       "}}\n",
       "\n",
       "                        })                };                });            </script>        </div>"
      ]
     },
     "metadata": {},
     "output_type": "display_data"
    }
   ],
   "source": [
    "\n",
    "fig = px.scatter_3d(df, x='feature1', y='feature2', z='target')\n",
    "\n",
    "fig.add_trace(go.Surface(x = x, y = y, z =z ))\n",
    "\n",
    "fig.show()"
   ]
  },
  {
   "cell_type": "code",
   "execution_count": null,
   "id": "61637a64",
   "metadata": {},
   "outputs": [],
   "source": []
  }
 ],
 "metadata": {
  "kernelspec": {
   "display_name": "Python 3 (ipykernel)",
   "language": "python",
   "name": "python3"
  },
  "language_info": {
   "codemirror_mode": {
    "name": "ipython",
    "version": 3
   },
   "file_extension": ".py",
   "mimetype": "text/x-python",
   "name": "python",
   "nbconvert_exporter": "python",
   "pygments_lexer": "ipython3",
   "version": "3.11.3"
  }
 },
 "nbformat": 4,
 "nbformat_minor": 5
}
