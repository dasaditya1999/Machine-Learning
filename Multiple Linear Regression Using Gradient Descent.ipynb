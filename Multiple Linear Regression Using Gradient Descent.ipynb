{
 "cells": [
  {
   "cell_type": "code",
   "execution_count": 1,
   "id": "9387b1ea",
   "metadata": {},
   "outputs": [],
   "source": [
    "import numpy as np\n",
    "import pandas as pd\n",
    "import matplotlib.pyplot as plt\n",
    "\n",
    "from sklearn.model_selection import train_test_split\n",
    "from sklearn.linear_model import LinearRegression\n",
    "\n",
    "from sklearn.datasets import load_diabetes"
   ]
  },
  {
   "cell_type": "code",
   "execution_count": 2,
   "id": "1f24a976",
   "metadata": {},
   "outputs": [],
   "source": [
    "X, y = load_diabetes(return_X_y=True)"
   ]
  },
  {
   "cell_type": "code",
   "execution_count": 3,
   "id": "2dc0e9df",
   "metadata": {},
   "outputs": [
    {
     "data": {
      "text/plain": [
       "(442, 10)"
      ]
     },
     "execution_count": 3,
     "metadata": {},
     "output_type": "execute_result"
    }
   ],
   "source": [
    "X.shape"
   ]
  },
  {
   "cell_type": "code",
   "execution_count": 4,
   "id": "abd6f0cc",
   "metadata": {},
   "outputs": [
    {
     "data": {
      "text/plain": [
       "(442,)"
      ]
     },
     "execution_count": 4,
     "metadata": {},
     "output_type": "execute_result"
    }
   ],
   "source": [
    "y.shape"
   ]
  },
  {
   "cell_type": "code",
   "execution_count": 5,
   "id": "617d357a",
   "metadata": {},
   "outputs": [],
   "source": [
    "X_train, X_test, y_train, y_test = train_test_split(X, y, test_size=0.2)"
   ]
  },
  {
   "cell_type": "code",
   "execution_count": 6,
   "id": "3fbaa7e6",
   "metadata": {},
   "outputs": [
    {
     "data": {
      "text/plain": [
       "(353, 10)"
      ]
     },
     "execution_count": 6,
     "metadata": {},
     "output_type": "execute_result"
    }
   ],
   "source": [
    "X_train.shape"
   ]
  },
  {
   "cell_type": "code",
   "execution_count": 7,
   "id": "92e9bb9b",
   "metadata": {},
   "outputs": [
    {
     "data": {
      "text/plain": [
       "(89, 10)"
      ]
     },
     "execution_count": 7,
     "metadata": {},
     "output_type": "execute_result"
    }
   ],
   "source": [
    "X_test.shape"
   ]
  },
  {
   "cell_type": "code",
   "execution_count": 8,
   "id": "b8e35368",
   "metadata": {},
   "outputs": [
    {
     "data": {
      "text/plain": [
       "(353,)"
      ]
     },
     "execution_count": 8,
     "metadata": {},
     "output_type": "execute_result"
    }
   ],
   "source": [
    "y_train.shape"
   ]
  },
  {
   "cell_type": "code",
   "execution_count": 9,
   "id": "5591f7c3",
   "metadata": {},
   "outputs": [
    {
     "data": {
      "text/plain": [
       "(89,)"
      ]
     },
     "execution_count": 9,
     "metadata": {},
     "output_type": "execute_result"
    }
   ],
   "source": [
    "y_test.shape"
   ]
  },
  {
   "cell_type": "code",
   "execution_count": 10,
   "id": "2cfd3edf",
   "metadata": {},
   "outputs": [],
   "source": [
    "linreg = LinearRegression()"
   ]
  },
  {
   "cell_type": "code",
   "execution_count": 11,
   "id": "0f36738c",
   "metadata": {},
   "outputs": [
    {
     "data": {
      "text/html": [
       "<style>#sk-container-id-1 {color: black;background-color: white;}#sk-container-id-1 pre{padding: 0;}#sk-container-id-1 div.sk-toggleable {background-color: white;}#sk-container-id-1 label.sk-toggleable__label {cursor: pointer;display: block;width: 100%;margin-bottom: 0;padding: 0.3em;box-sizing: border-box;text-align: center;}#sk-container-id-1 label.sk-toggleable__label-arrow:before {content: \"▸\";float: left;margin-right: 0.25em;color: #696969;}#sk-container-id-1 label.sk-toggleable__label-arrow:hover:before {color: black;}#sk-container-id-1 div.sk-estimator:hover label.sk-toggleable__label-arrow:before {color: black;}#sk-container-id-1 div.sk-toggleable__content {max-height: 0;max-width: 0;overflow: hidden;text-align: left;background-color: #f0f8ff;}#sk-container-id-1 div.sk-toggleable__content pre {margin: 0.2em;color: black;border-radius: 0.25em;background-color: #f0f8ff;}#sk-container-id-1 input.sk-toggleable__control:checked~div.sk-toggleable__content {max-height: 200px;max-width: 100%;overflow: auto;}#sk-container-id-1 input.sk-toggleable__control:checked~label.sk-toggleable__label-arrow:before {content: \"▾\";}#sk-container-id-1 div.sk-estimator input.sk-toggleable__control:checked~label.sk-toggleable__label {background-color: #d4ebff;}#sk-container-id-1 div.sk-label input.sk-toggleable__control:checked~label.sk-toggleable__label {background-color: #d4ebff;}#sk-container-id-1 input.sk-hidden--visually {border: 0;clip: rect(1px 1px 1px 1px);clip: rect(1px, 1px, 1px, 1px);height: 1px;margin: -1px;overflow: hidden;padding: 0;position: absolute;width: 1px;}#sk-container-id-1 div.sk-estimator {font-family: monospace;background-color: #f0f8ff;border: 1px dotted black;border-radius: 0.25em;box-sizing: border-box;margin-bottom: 0.5em;}#sk-container-id-1 div.sk-estimator:hover {background-color: #d4ebff;}#sk-container-id-1 div.sk-parallel-item::after {content: \"\";width: 100%;border-bottom: 1px solid gray;flex-grow: 1;}#sk-container-id-1 div.sk-label:hover label.sk-toggleable__label {background-color: #d4ebff;}#sk-container-id-1 div.sk-serial::before {content: \"\";position: absolute;border-left: 1px solid gray;box-sizing: border-box;top: 0;bottom: 0;left: 50%;z-index: 0;}#sk-container-id-1 div.sk-serial {display: flex;flex-direction: column;align-items: center;background-color: white;padding-right: 0.2em;padding-left: 0.2em;position: relative;}#sk-container-id-1 div.sk-item {position: relative;z-index: 1;}#sk-container-id-1 div.sk-parallel {display: flex;align-items: stretch;justify-content: center;background-color: white;position: relative;}#sk-container-id-1 div.sk-item::before, #sk-container-id-1 div.sk-parallel-item::before {content: \"\";position: absolute;border-left: 1px solid gray;box-sizing: border-box;top: 0;bottom: 0;left: 50%;z-index: -1;}#sk-container-id-1 div.sk-parallel-item {display: flex;flex-direction: column;z-index: 1;position: relative;background-color: white;}#sk-container-id-1 div.sk-parallel-item:first-child::after {align-self: flex-end;width: 50%;}#sk-container-id-1 div.sk-parallel-item:last-child::after {align-self: flex-start;width: 50%;}#sk-container-id-1 div.sk-parallel-item:only-child::after {width: 0;}#sk-container-id-1 div.sk-dashed-wrapped {border: 1px dashed gray;margin: 0 0.4em 0.5em 0.4em;box-sizing: border-box;padding-bottom: 0.4em;background-color: white;}#sk-container-id-1 div.sk-label label {font-family: monospace;font-weight: bold;display: inline-block;line-height: 1.2em;}#sk-container-id-1 div.sk-label-container {text-align: center;}#sk-container-id-1 div.sk-container {/* jupyter's `normalize.less` sets `[hidden] { display: none; }` but bootstrap.min.css set `[hidden] { display: none !important; }` so we also need the `!important` here to be able to override the default hidden behavior on the sphinx rendered scikit-learn.org. See: https://github.com/scikit-learn/scikit-learn/issues/21755 */display: inline-block !important;position: relative;}#sk-container-id-1 div.sk-text-repr-fallback {display: none;}</style><div id=\"sk-container-id-1\" class=\"sk-top-container\"><div class=\"sk-text-repr-fallback\"><pre>LinearRegression()</pre><b>In a Jupyter environment, please rerun this cell to show the HTML representation or trust the notebook. <br />On GitHub, the HTML representation is unable to render, please try loading this page with nbviewer.org.</b></div><div class=\"sk-container\" hidden><div class=\"sk-item\"><div class=\"sk-estimator sk-toggleable\"><input class=\"sk-toggleable__control sk-hidden--visually\" id=\"sk-estimator-id-1\" type=\"checkbox\" checked><label for=\"sk-estimator-id-1\" class=\"sk-toggleable__label sk-toggleable__label-arrow\">LinearRegression</label><div class=\"sk-toggleable__content\"><pre>LinearRegression()</pre></div></div></div></div></div>"
      ],
      "text/plain": [
       "LinearRegression()"
      ]
     },
     "execution_count": 11,
     "metadata": {},
     "output_type": "execute_result"
    }
   ],
   "source": [
    "linreg.fit(X_train,y_train)"
   ]
  },
  {
   "cell_type": "code",
   "execution_count": 12,
   "id": "4a680200",
   "metadata": {},
   "outputs": [
    {
     "name": "stdout",
     "output_type": "stream",
     "text": [
      "Intercept: 153.01197886278462\n",
      "\n",
      "Coefficients: [ -11.35783957 -182.87028352  476.9425472   326.33661233 -845.25349002\n",
      "  585.00119045   97.0529373    89.23394478  775.75089421   21.49837649]\n"
     ]
    }
   ],
   "source": [
    "print(\"Intercept:\", linreg.intercept_)\n",
    "print()\n",
    "print(\"Coefficients:\", linreg.coef_)"
   ]
  },
  {
   "cell_type": "code",
   "execution_count": 80,
   "id": "9fe3faba",
   "metadata": {},
   "outputs": [],
   "source": [
    "y_pred = linreg.predict(X_test)"
   ]
  },
  {
   "cell_type": "code",
   "execution_count": 81,
   "id": "17ea06c3",
   "metadata": {},
   "outputs": [
    {
     "data": {
      "text/plain": [
       "0.6071892051750973"
      ]
     },
     "execution_count": 81,
     "metadata": {},
     "output_type": "execute_result"
    }
   ],
   "source": [
    "r2_score(y_test,y_pred)"
   ]
  },
  {
   "cell_type": "markdown",
   "id": "4db6b888",
   "metadata": {},
   "source": [
    "### Writing own algorithm for Multiple Linear Regression with Gradient Descent Optimizer"
   ]
  },
  {
   "cell_type": "code",
   "execution_count": 87,
   "id": "322cd70a",
   "metadata": {},
   "outputs": [],
   "source": [
    "class GDMultipleRegression:\n",
    "    \n",
    "    def __init__(self, epochs, learning_rate):\n",
    "        self.epochs = epochs\n",
    "        self.learning_rate = learning_rate\n",
    "        self.coefficient = None\n",
    "        self.intercept = None\n",
    "    \n",
    "    def fit(self,X_train,y_train):\n",
    "        \n",
    "        # Find the total number of features we have in the dataset\n",
    "        total_features = X_train.shape[1]\n",
    "        \n",
    "        # Initializing the beta value i.e. beta0, beta1, beta2.....\n",
    "        self.intercept = 0\n",
    "        self.coefficient = np.ones(X_train.shape[1])\n",
    "        \n",
    "        # Run the algorithm epochs number of times & keep updating the intercept & coefficients\n",
    "        for i in range(self.epochs):\n",
    "            y_hat = np.dot(X_train, self.coefficient) + self.intercept\n",
    "            \n",
    "            intercept_derivative = (-2) * np.mean(y_train - y_hat)\n",
    "            self.intercept = self.intercept - self.learning_rate * intercept_derivative\n",
    "            \n",
    "            coefficient_der = (-2)*(np.dot((y_train - y_hat),X_train)) / X_train.shape[0]\n",
    "            self.coefficient = self.coefficient - (self.learning_rate * coefficient_der)\n",
    "        \n",
    "        return self.coefficient , self.intercept\n",
    "    \n",
    "    def predict(self,X_test):\n",
    "        return np.dot(X_test,self.coefficient) + self.intercept"
   ]
  },
  {
   "cell_type": "code",
   "execution_count": 93,
   "id": "51b08857",
   "metadata": {},
   "outputs": [],
   "source": [
    "batchgd = GDMultipleRegression(1000,0.7)"
   ]
  },
  {
   "cell_type": "code",
   "execution_count": 94,
   "id": "1b93d157",
   "metadata": {},
   "outputs": [
    {
     "data": {
      "text/plain": [
       "(array([   0.49868857, -177.21212488,  459.51965393,  317.13415984,\n",
       "         -44.72059827,  -91.93381698, -201.88413661,   99.84464571,\n",
       "         412.02447252,   62.15013012]),\n",
       " 152.86516822935735)"
      ]
     },
     "execution_count": 94,
     "metadata": {},
     "output_type": "execute_result"
    }
   ],
   "source": [
    "batchgd.fit(X_train,y_train)"
   ]
  },
  {
   "cell_type": "code",
   "execution_count": 95,
   "id": "a2477676",
   "metadata": {},
   "outputs": [
    {
     "data": {
      "text/plain": [
       "array([ 89.59655866, 209.02361055, 188.20627427, 216.04938231,\n",
       "        78.03361809, 236.74687907, 105.81310027,  98.041101  ,\n",
       "       206.08650644, 141.3509689 , 187.9362422 , 149.38260391,\n",
       "        83.75672496, 204.37813884, 191.20725476, 130.21582271,\n",
       "       226.3830392 ,  74.68775132, 176.9384392 , 117.21546253,\n",
       "        66.15525486, 127.93658339, 127.22587811, 135.30917756,\n",
       "       132.6941108 , 201.03218509, 122.4349308 , 119.21979792,\n",
       "       227.25326158, 108.96439188, 196.2535142 , 189.03614063,\n",
       "       236.50324217, 157.51311827, 122.28821526, 131.12635602,\n",
       "       126.35547689,  82.93642875, 125.58616581,  61.67080971,\n",
       "       129.05919076, 216.92065315, 122.6678075 , 102.98066899,\n",
       "       178.17074234, 140.65870846, 171.83405671, 203.74932104,\n",
       "        97.7134436 , 176.63893835, 201.78724522, 158.87177776,\n",
       "       137.85217509, 120.77883017,  64.82782786,  83.93100453,\n",
       "       228.25848829, 203.3331903 , 184.9583447 , 176.18739388,\n",
       "       246.14365657, 171.07583425,  93.60008845, 224.09738777,\n",
       "        99.45111915, 122.02377262, 239.69695332, 102.09323661,\n",
       "       256.05604532, 154.90344496,  69.39582131,  90.74798267,\n",
       "        93.56917686, 106.73952503, 199.97781302, 222.73420966,\n",
       "       134.11049554, 198.26311938, 166.06779932, 244.1346892 ,\n",
       "       105.64862211, 253.34315568, 214.7407807 , 100.14922591,\n",
       "       112.25005323, 218.67434426, 145.80153189, 145.24309183,\n",
       "       101.96214036])"
      ]
     },
     "execution_count": 95,
     "metadata": {},
     "output_type": "execute_result"
    }
   ],
   "source": [
    "batchgd.predict(X_test)"
   ]
  },
  {
   "cell_type": "code",
   "execution_count": 90,
   "id": "eb4a6940",
   "metadata": {},
   "outputs": [],
   "source": [
    "from sklearn.metrics import r2_score"
   ]
  },
  {
   "cell_type": "code",
   "execution_count": 96,
   "id": "6634557a",
   "metadata": {},
   "outputs": [],
   "source": [
    "y_pred = batchgd.predict(X_test)"
   ]
  },
  {
   "cell_type": "code",
   "execution_count": 97,
   "id": "e23744cd",
   "metadata": {},
   "outputs": [
    {
     "data": {
      "text/plain": [
       "0.6057844307169331"
      ]
     },
     "execution_count": 97,
     "metadata": {},
     "output_type": "execute_result"
    }
   ],
   "source": [
    "r2_score(y_test,y_pred)"
   ]
  }
 ],
 "metadata": {
  "kernelspec": {
   "display_name": "Python 3 (ipykernel)",
   "language": "python",
   "name": "python3"
  },
  "language_info": {
   "codemirror_mode": {
    "name": "ipython",
    "version": 3
   },
   "file_extension": ".py",
   "mimetype": "text/x-python",
   "name": "python",
   "nbconvert_exporter": "python",
   "pygments_lexer": "ipython3",
   "version": "3.11.3"
  }
 },
 "nbformat": 4,
 "nbformat_minor": 5
}
