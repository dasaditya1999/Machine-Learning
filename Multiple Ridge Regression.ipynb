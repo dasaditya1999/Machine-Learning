{
 "cells": [
  {
   "cell_type": "code",
   "execution_count": 8,
   "id": "6db75b37",
   "metadata": {},
   "outputs": [],
   "source": [
    "import numpy as np\n",
    "import pandas as pd\n",
    "import seaborn as sns\n",
    "import matplotlib.pyplot as plt\n",
    "\n",
    "from sklearn.model_selection import train_test_split\n",
    "from sklearn.linear_model import LinearRegression\n",
    "from sklearn.datasets import load_diabetes\n",
    "from sklearn.metrics import r2_score, mean_absolute_error, mean_squared_error"
   ]
  },
  {
   "cell_type": "code",
   "execution_count": 3,
   "id": "bb6e541f",
   "metadata": {},
   "outputs": [],
   "source": [
    "X,y = load_diabetes(return_X_y=True)"
   ]
  },
  {
   "cell_type": "code",
   "execution_count": 5,
   "id": "4047cfb5",
   "metadata": {},
   "outputs": [
    {
     "data": {
      "text/plain": [
       "(442, 10)"
      ]
     },
     "execution_count": 5,
     "metadata": {},
     "output_type": "execute_result"
    }
   ],
   "source": [
    "X.shape"
   ]
  },
  {
   "cell_type": "code",
   "execution_count": 6,
   "id": "d58f5018",
   "metadata": {},
   "outputs": [
    {
     "data": {
      "text/plain": [
       "(442,)"
      ]
     },
     "execution_count": 6,
     "metadata": {},
     "output_type": "execute_result"
    }
   ],
   "source": [
    "y.shape"
   ]
  },
  {
   "cell_type": "code",
   "execution_count": 7,
   "id": "22ccba2c",
   "metadata": {},
   "outputs": [],
   "source": [
    "X_train,X_test,y_train,y_test = train_test_split(X,y,test_size=0.2,random_state=41)"
   ]
  },
  {
   "cell_type": "code",
   "execution_count": 10,
   "id": "1c3343e2",
   "metadata": {},
   "outputs": [
    {
     "name": "stdout",
     "output_type": "stream",
     "text": [
      "r2 score:0.5052064192833896\n"
     ]
    }
   ],
   "source": [
    "linearReg = LinearRegression()\n",
    "linearReg.fit(X_train,y_train)\n",
    "test_pred = linearReg.predict(X_test)\n",
    "train_pred = linearReg.predict(X_train)\n",
    "r2 = r2_score(y_test,test_pred)\n",
    "print(f'r2 score:{r2}')"
   ]
  },
  {
   "cell_type": "markdown",
   "id": "16e32aba",
   "metadata": {},
   "source": [
    "### Checking if the model is overfit or underfit"
   ]
  },
  {
   "cell_type": "code",
   "execution_count": 11,
   "id": "371a5faf",
   "metadata": {},
   "outputs": [],
   "source": [
    "training_error = mean_absolute_error(y_train,train_pred)\n",
    "testing_error = mean_absolute_error(y_test,test_pred)"
   ]
  },
  {
   "cell_type": "code",
   "execution_count": 14,
   "id": "ff91357e",
   "metadata": {},
   "outputs": [],
   "source": [
    "Variance = np.abs(training_error - testing_error)"
   ]
  },
  {
   "cell_type": "code",
   "execution_count": 15,
   "id": "e81d9cf3",
   "metadata": {},
   "outputs": [
    {
     "data": {
      "text/plain": [
       "0.6304281798824505"
      ]
     },
     "execution_count": 15,
     "metadata": {},
     "output_type": "execute_result"
    }
   ],
   "source": [
    "Variance"
   ]
  },
  {
   "cell_type": "code",
   "execution_count": 16,
   "id": "e6d6c6a6",
   "metadata": {},
   "outputs": [
    {
     "data": {
      "text/plain": [
       "43.370201892866355"
      ]
     },
     "execution_count": 16,
     "metadata": {},
     "output_type": "execute_result"
    }
   ],
   "source": [
    "training_error"
   ]
  },
  {
   "cell_type": "code",
   "execution_count": 17,
   "id": "fa5c8d22",
   "metadata": {},
   "outputs": [
    {
     "data": {
      "text/plain": [
       "44.000630072748805"
      ]
     },
     "execution_count": 17,
     "metadata": {},
     "output_type": "execute_result"
    }
   ],
   "source": [
    "testing_error"
   ]
  },
  {
   "cell_type": "code",
   "execution_count": 18,
   "id": "6dad8a2b",
   "metadata": {},
   "outputs": [
    {
     "data": {
      "text/plain": [
       "array([215., 248., 262., 292., 219.,  88., 172., 113., 150.,  83.])"
      ]
     },
     "execution_count": 18,
     "metadata": {},
     "output_type": "execute_result"
    }
   ],
   "source": [
    "y_test[:10]"
   ]
  },
  {
   "cell_type": "code",
   "execution_count": 19,
   "id": "71bbe799",
   "metadata": {},
   "outputs": [
    {
     "data": {
      "text/plain": [
       "array([240.68494773, 189.59915445, 175.57815132, 205.07874966,\n",
       "       136.97794201, 144.35675319, 148.80819735, 123.45451372,\n",
       "       130.7523313 ,  70.1370028 ])"
      ]
     },
     "execution_count": 19,
     "metadata": {},
     "output_type": "execute_result"
    }
   ],
   "source": [
    "test_pred[:10]"
   ]
  },
  {
   "cell_type": "code",
   "execution_count": 20,
   "id": "988e28ba",
   "metadata": {},
   "outputs": [
    {
     "data": {
      "text/plain": [
       "array([104.,  95.,  45., 292.,  88., 120., 232., 166., 182.,  31.])"
      ]
     },
     "execution_count": 20,
     "metadata": {},
     "output_type": "execute_result"
    }
   ],
   "source": [
    "y_train[:10]"
   ]
  },
  {
   "cell_type": "code",
   "execution_count": 21,
   "id": "9a9c3120",
   "metadata": {},
   "outputs": [
    {
     "data": {
      "text/plain": [
       "array([ 35.0694877 , 142.96712923,  30.26866321, 197.24818951,\n",
       "       112.89433254, 161.05989546, 233.93419673, 208.0022485 ,\n",
       "       138.39813951,  97.58033114])"
      ]
     },
     "execution_count": 21,
     "metadata": {},
     "output_type": "execute_result"
    }
   ],
   "source": [
    "train_pred[:10]"
   ]
  },
  {
   "cell_type": "code",
   "execution_count": null,
   "id": "79ba9a37",
   "metadata": {},
   "outputs": [],
   "source": []
  },
  {
   "cell_type": "markdown",
   "id": "e58b8156",
   "metadata": {},
   "source": [
    "### Applying the Ridge Regression to see if we are seeing any improvement in the model score"
   ]
  },
  {
   "cell_type": "code",
   "execution_count": 22,
   "id": "fa5ea99e",
   "metadata": {},
   "outputs": [],
   "source": [
    "from sklearn.linear_model import Ridge"
   ]
  },
  {
   "cell_type": "code",
   "execution_count": 53,
   "id": "861a78be",
   "metadata": {},
   "outputs": [],
   "source": [
    "rr = Ridge(alpha=0.01)"
   ]
  },
  {
   "cell_type": "code",
   "execution_count": 54,
   "id": "bd64b1e5",
   "metadata": {},
   "outputs": [
    {
     "data": {
      "text/html": [
       "<style>#sk-container-id-7 {color: black;background-color: white;}#sk-container-id-7 pre{padding: 0;}#sk-container-id-7 div.sk-toggleable {background-color: white;}#sk-container-id-7 label.sk-toggleable__label {cursor: pointer;display: block;width: 100%;margin-bottom: 0;padding: 0.3em;box-sizing: border-box;text-align: center;}#sk-container-id-7 label.sk-toggleable__label-arrow:before {content: \"▸\";float: left;margin-right: 0.25em;color: #696969;}#sk-container-id-7 label.sk-toggleable__label-arrow:hover:before {color: black;}#sk-container-id-7 div.sk-estimator:hover label.sk-toggleable__label-arrow:before {color: black;}#sk-container-id-7 div.sk-toggleable__content {max-height: 0;max-width: 0;overflow: hidden;text-align: left;background-color: #f0f8ff;}#sk-container-id-7 div.sk-toggleable__content pre {margin: 0.2em;color: black;border-radius: 0.25em;background-color: #f0f8ff;}#sk-container-id-7 input.sk-toggleable__control:checked~div.sk-toggleable__content {max-height: 200px;max-width: 100%;overflow: auto;}#sk-container-id-7 input.sk-toggleable__control:checked~label.sk-toggleable__label-arrow:before {content: \"▾\";}#sk-container-id-7 div.sk-estimator input.sk-toggleable__control:checked~label.sk-toggleable__label {background-color: #d4ebff;}#sk-container-id-7 div.sk-label input.sk-toggleable__control:checked~label.sk-toggleable__label {background-color: #d4ebff;}#sk-container-id-7 input.sk-hidden--visually {border: 0;clip: rect(1px 1px 1px 1px);clip: rect(1px, 1px, 1px, 1px);height: 1px;margin: -1px;overflow: hidden;padding: 0;position: absolute;width: 1px;}#sk-container-id-7 div.sk-estimator {font-family: monospace;background-color: #f0f8ff;border: 1px dotted black;border-radius: 0.25em;box-sizing: border-box;margin-bottom: 0.5em;}#sk-container-id-7 div.sk-estimator:hover {background-color: #d4ebff;}#sk-container-id-7 div.sk-parallel-item::after {content: \"\";width: 100%;border-bottom: 1px solid gray;flex-grow: 1;}#sk-container-id-7 div.sk-label:hover label.sk-toggleable__label {background-color: #d4ebff;}#sk-container-id-7 div.sk-serial::before {content: \"\";position: absolute;border-left: 1px solid gray;box-sizing: border-box;top: 0;bottom: 0;left: 50%;z-index: 0;}#sk-container-id-7 div.sk-serial {display: flex;flex-direction: column;align-items: center;background-color: white;padding-right: 0.2em;padding-left: 0.2em;position: relative;}#sk-container-id-7 div.sk-item {position: relative;z-index: 1;}#sk-container-id-7 div.sk-parallel {display: flex;align-items: stretch;justify-content: center;background-color: white;position: relative;}#sk-container-id-7 div.sk-item::before, #sk-container-id-7 div.sk-parallel-item::before {content: \"\";position: absolute;border-left: 1px solid gray;box-sizing: border-box;top: 0;bottom: 0;left: 50%;z-index: -1;}#sk-container-id-7 div.sk-parallel-item {display: flex;flex-direction: column;z-index: 1;position: relative;background-color: white;}#sk-container-id-7 div.sk-parallel-item:first-child::after {align-self: flex-end;width: 50%;}#sk-container-id-7 div.sk-parallel-item:last-child::after {align-self: flex-start;width: 50%;}#sk-container-id-7 div.sk-parallel-item:only-child::after {width: 0;}#sk-container-id-7 div.sk-dashed-wrapped {border: 1px dashed gray;margin: 0 0.4em 0.5em 0.4em;box-sizing: border-box;padding-bottom: 0.4em;background-color: white;}#sk-container-id-7 div.sk-label label {font-family: monospace;font-weight: bold;display: inline-block;line-height: 1.2em;}#sk-container-id-7 div.sk-label-container {text-align: center;}#sk-container-id-7 div.sk-container {/* jupyter's `normalize.less` sets `[hidden] { display: none; }` but bootstrap.min.css set `[hidden] { display: none !important; }` so we also need the `!important` here to be able to override the default hidden behavior on the sphinx rendered scikit-learn.org. See: https://github.com/scikit-learn/scikit-learn/issues/21755 */display: inline-block !important;position: relative;}#sk-container-id-7 div.sk-text-repr-fallback {display: none;}</style><div id=\"sk-container-id-7\" class=\"sk-top-container\"><div class=\"sk-text-repr-fallback\"><pre>Ridge(alpha=0.01)</pre><b>In a Jupyter environment, please rerun this cell to show the HTML representation or trust the notebook. <br />On GitHub, the HTML representation is unable to render, please try loading this page with nbviewer.org.</b></div><div class=\"sk-container\" hidden><div class=\"sk-item\"><div class=\"sk-estimator sk-toggleable\"><input class=\"sk-toggleable__control sk-hidden--visually\" id=\"sk-estimator-id-7\" type=\"checkbox\" checked><label for=\"sk-estimator-id-7\" class=\"sk-toggleable__label sk-toggleable__label-arrow\">Ridge</label><div class=\"sk-toggleable__content\"><pre>Ridge(alpha=0.01)</pre></div></div></div></div></div>"
      ],
      "text/plain": [
       "Ridge(alpha=0.01)"
      ]
     },
     "execution_count": 54,
     "metadata": {},
     "output_type": "execute_result"
    }
   ],
   "source": [
    "rr.fit(X_train,y_train)"
   ]
  },
  {
   "cell_type": "code",
   "execution_count": 55,
   "id": "cbb0c17e",
   "metadata": {},
   "outputs": [],
   "source": [
    "train_pred1 = rr.predict(X_train)\n",
    "test_pred1 = rr.predict(X_test)"
   ]
  },
  {
   "cell_type": "code",
   "execution_count": 56,
   "id": "62264f16",
   "metadata": {},
   "outputs": [
    {
     "data": {
      "text/plain": [
       "0.5167222617567644"
      ]
     },
     "execution_count": 56,
     "metadata": {},
     "output_type": "execute_result"
    }
   ],
   "source": [
    "r2_score(y_test,test_pred1)"
   ]
  },
  {
   "cell_type": "code",
   "execution_count": 57,
   "id": "cad636a3",
   "metadata": {},
   "outputs": [
    {
     "data": {
      "text/plain": [
       "43.480503652575315"
      ]
     },
     "execution_count": 57,
     "metadata": {},
     "output_type": "execute_result"
    }
   ],
   "source": [
    "train_error = mean_absolute_error(y_train,train_pred1)\n",
    "train_error"
   ]
  },
  {
   "cell_type": "code",
   "execution_count": 58,
   "id": "91a4a405",
   "metadata": {},
   "outputs": [
    {
     "data": {
      "text/plain": [
       "43.41893075455325"
      ]
     },
     "execution_count": 58,
     "metadata": {},
     "output_type": "execute_result"
    }
   ],
   "source": [
    "test_error = mean_absolute_error(y_test,test_pred1)\n",
    "test_error"
   ]
  },
  {
   "cell_type": "code",
   "execution_count": 59,
   "id": "ed78e4eb",
   "metadata": {},
   "outputs": [
    {
     "data": {
      "text/plain": [
       "array([215., 248., 262., 292., 219.,  88., 172., 113., 150.,  83.])"
      ]
     },
     "execution_count": 59,
     "metadata": {},
     "output_type": "execute_result"
    }
   ],
   "source": [
    "y_test[:10]"
   ]
  },
  {
   "cell_type": "code",
   "execution_count": 60,
   "id": "4ad043f3",
   "metadata": {},
   "outputs": [
    {
     "data": {
      "text/plain": [
       "array([241.47413263, 191.35100071, 175.97237395, 199.87907777,\n",
       "       135.67730663, 141.18268273, 147.10920452, 124.40207874,\n",
       "       127.56471052,  74.30758512])"
      ]
     },
     "execution_count": 60,
     "metadata": {},
     "output_type": "execute_result"
    }
   ],
   "source": [
    "test_pred1[:10]"
   ]
  },
  {
   "cell_type": "code",
   "execution_count": 82,
   "id": "f5b30f33",
   "metadata": {},
   "outputs": [
    {
     "data": {
      "text/plain": [
       "array([ -33.35934766, -250.7407271 ,  541.9881913 ,  272.50543196,\n",
       "       -487.51153617,  196.847143  ,  -56.07465871,  181.50985558,\n",
       "        581.44437919,  120.27373541])"
      ]
     },
     "execution_count": 82,
     "metadata": {},
     "output_type": "execute_result"
    }
   ],
   "source": [
    "rr.coef_"
   ]
  },
  {
   "cell_type": "code",
   "execution_count": 83,
   "id": "86365805",
   "metadata": {},
   "outputs": [
    {
     "data": {
      "text/plain": [
       "151.2927162961269"
      ]
     },
     "execution_count": 83,
     "metadata": {},
     "output_type": "execute_result"
    }
   ],
   "source": [
    "rr.intercept_"
   ]
  },
  {
   "cell_type": "markdown",
   "id": "a4bf660a",
   "metadata": {},
   "source": [
    "### Ridge Regression From Scratch"
   ]
  },
  {
   "cell_type": "code",
   "execution_count": 104,
   "id": "f2f2c29b",
   "metadata": {},
   "outputs": [],
   "source": [
    "class CustomRidge:\n",
    "    \n",
    "    def __init__(self,alpha):\n",
    "        self.alpha = alpha\n",
    "        self.intercept_ = None\n",
    "        self.coefficient = None\n",
    "        \n",
    "    def fit(self,X_train,y_train):\n",
    "        X_train = np.insert(X_train,0,1,axis=1)\n",
    "        X_train_transpose = X_train.T\n",
    "        X_train = X_train\n",
    "        identity_matrix = np.eye(X_train.shape[1])\n",
    "        \n",
    "        res = np.linalg.inv(np.dot(X_train_transpose,X_train) + (self.alpha * identity_matrix))\n",
    "        res2 = np.dot(X_train_transpose,y_train)\n",
    "        \n",
    "        result = np.dot(res,res2)\n",
    "        \n",
    "        self.intercept_ = result[0]\n",
    "        self.coefficient = result[1:]\n",
    "        \n",
    "        return result\n",
    "    \n",
    "    def predict(self,X_test):\n",
    "        return np.dot(X_test,self.coefficient) + self.intercept_"
   ]
  },
  {
   "cell_type": "code",
   "execution_count": null,
   "id": "1ad6880d",
   "metadata": {},
   "outputs": [],
   "source": []
  },
  {
   "cell_type": "code",
   "execution_count": null,
   "id": "48d796fe",
   "metadata": {},
   "outputs": [],
   "source": []
  },
  {
   "cell_type": "code",
   "execution_count": 105,
   "id": "44d4ef0d",
   "metadata": {},
   "outputs": [],
   "source": [
    "myalg = CustomRidge(0.01)"
   ]
  },
  {
   "cell_type": "code",
   "execution_count": 106,
   "id": "feca9b04",
   "metadata": {},
   "outputs": [
    {
     "name": "stdout",
     "output_type": "stream",
     "text": [
      "[ 151.28841215  -33.36060276 -250.74105324  541.98908602  272.50610232\n",
      " -487.51881376  196.85392842  -56.07146671  181.50933031  581.44108753\n",
      "  120.27529008]\n"
     ]
    }
   ],
   "source": [
    "print(myalg.fit(X_train,y_train))"
   ]
  },
  {
   "cell_type": "code",
   "execution_count": 107,
   "id": "cca90e82",
   "metadata": {},
   "outputs": [],
   "source": [
    "y_pred = myalg.predict(X_test)"
   ]
  },
  {
   "cell_type": "code",
   "execution_count": 108,
   "id": "2fbdef4e",
   "metadata": {},
   "outputs": [
    {
     "data": {
      "text/plain": [
       "0.516715430273572"
      ]
     },
     "execution_count": 108,
     "metadata": {},
     "output_type": "execute_result"
    }
   ],
   "source": [
    "r2_score(y_test,y_pred)"
   ]
  }
 ],
 "metadata": {
  "kernelspec": {
   "display_name": "Python 3 (ipykernel)",
   "language": "python",
   "name": "python3"
  },
  "language_info": {
   "codemirror_mode": {
    "name": "ipython",
    "version": 3
   },
   "file_extension": ".py",
   "mimetype": "text/x-python",
   "name": "python",
   "nbconvert_exporter": "python",
   "pygments_lexer": "ipython3",
   "version": "3.11.3"
  }
 },
 "nbformat": 4,
 "nbformat_minor": 5
}
