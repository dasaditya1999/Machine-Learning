{
 "cells": [
  {
   "cell_type": "code",
   "execution_count": 1,
   "id": "3333975a",
   "metadata": {},
   "outputs": [],
   "source": [
    "import numpy as np\n",
    "import pandas as pd\n",
    "import matplotlib.pyplot as plt\n",
    "import seaborn as sns\n",
    "\n",
    "from sklearn.model_selection import train_test_split"
   ]
  },
  {
   "cell_type": "code",
   "execution_count": 2,
   "id": "42c16d20",
   "metadata": {},
   "outputs": [
    {
     "data": {
      "text/html": [
       "<div>\n",
       "<style scoped>\n",
       "    .dataframe tbody tr th:only-of-type {\n",
       "        vertical-align: middle;\n",
       "    }\n",
       "\n",
       "    .dataframe tbody tr th {\n",
       "        vertical-align: top;\n",
       "    }\n",
       "\n",
       "    .dataframe thead th {\n",
       "        text-align: right;\n",
       "    }\n",
       "</style>\n",
       "<table border=\"1\" class=\"dataframe\">\n",
       "  <thead>\n",
       "    <tr style=\"text-align: right;\">\n",
       "      <th></th>\n",
       "      <th>cgpa</th>\n",
       "      <th>placement_exam_marks</th>\n",
       "      <th>placed</th>\n",
       "    </tr>\n",
       "  </thead>\n",
       "  <tbody>\n",
       "    <tr>\n",
       "      <th>0</th>\n",
       "      <td>7.19</td>\n",
       "      <td>26.0</td>\n",
       "      <td>1</td>\n",
       "    </tr>\n",
       "    <tr>\n",
       "      <th>1</th>\n",
       "      <td>7.46</td>\n",
       "      <td>38.0</td>\n",
       "      <td>1</td>\n",
       "    </tr>\n",
       "    <tr>\n",
       "      <th>2</th>\n",
       "      <td>7.54</td>\n",
       "      <td>40.0</td>\n",
       "      <td>1</td>\n",
       "    </tr>\n",
       "    <tr>\n",
       "      <th>3</th>\n",
       "      <td>6.42</td>\n",
       "      <td>8.0</td>\n",
       "      <td>1</td>\n",
       "    </tr>\n",
       "    <tr>\n",
       "      <th>4</th>\n",
       "      <td>7.23</td>\n",
       "      <td>17.0</td>\n",
       "      <td>0</td>\n",
       "    </tr>\n",
       "  </tbody>\n",
       "</table>\n",
       "</div>"
      ],
      "text/plain": [
       "   cgpa  placement_exam_marks  placed\n",
       "0  7.19                  26.0       1\n",
       "1  7.46                  38.0       1\n",
       "2  7.54                  40.0       1\n",
       "3  6.42                   8.0       1\n",
       "4  7.23                  17.0       0"
      ]
     },
     "execution_count": 2,
     "metadata": {},
     "output_type": "execute_result"
    }
   ],
   "source": [
    "df = pd.read_csv('placement.csv')\n",
    "df.head()"
   ]
  },
  {
   "cell_type": "code",
   "execution_count": 3,
   "id": "cc8f5a67",
   "metadata": {},
   "outputs": [
    {
     "data": {
      "text/plain": [
       "cgpa                    0\n",
       "placement_exam_marks    0\n",
       "placed                  0\n",
       "dtype: int64"
      ]
     },
     "execution_count": 3,
     "metadata": {},
     "output_type": "execute_result"
    }
   ],
   "source": [
    "df.isnull().sum()"
   ]
  },
  {
   "cell_type": "code",
   "execution_count": 4,
   "id": "4e831cd6",
   "metadata": {},
   "outputs": [
    {
     "data": {
      "text/plain": [
       "cgpa                    float64\n",
       "placement_exam_marks    float64\n",
       "placed                    int64\n",
       "dtype: object"
      ]
     },
     "execution_count": 4,
     "metadata": {},
     "output_type": "execute_result"
    }
   ],
   "source": [
    "df.dtypes"
   ]
  },
  {
   "cell_type": "code",
   "execution_count": 5,
   "id": "14d13c07",
   "metadata": {},
   "outputs": [
    {
     "data": {
      "text/plain": [
       "count    1000.000000\n",
       "mean        6.961240\n",
       "std         0.615898\n",
       "min         4.890000\n",
       "25%         6.550000\n",
       "50%         6.960000\n",
       "75%         7.370000\n",
       "max         9.120000\n",
       "Name: cgpa, dtype: float64"
      ]
     },
     "execution_count": 5,
     "metadata": {},
     "output_type": "execute_result"
    }
   ],
   "source": [
    "df['cgpa'].describe()"
   ]
  },
  {
   "cell_type": "markdown",
   "id": "63414b8c",
   "metadata": {},
   "source": [
    "#### Checking the distribution of the dataset For every feature"
   ]
  },
  {
   "cell_type": "code",
   "execution_count": 6,
   "id": "136e01ad",
   "metadata": {},
   "outputs": [
    {
     "name": "stderr",
     "output_type": "stream",
     "text": [
      "/var/folders/03/17q0xl853nxgk_46r8x0vbkr0000gn/T/ipykernel_33480/1581221598.py:3: UserWarning: \n",
      "\n",
      "`distplot` is a deprecated function and will be removed in seaborn v0.14.0.\n",
      "\n",
      "Please adapt your code to use either `displot` (a figure-level function with\n",
      "similar flexibility) or `histplot` (an axes-level function for histograms).\n",
      "\n",
      "For a guide to updating your code to use the new functions, please see\n",
      "https://gist.github.com/mwaskom/de44147ed2974457ad6372750bbe5751\n",
      "\n",
      "  sns.distplot(df['cgpa'])\n",
      "/var/folders/03/17q0xl853nxgk_46r8x0vbkr0000gn/T/ipykernel_33480/1581221598.py:6: UserWarning: \n",
      "\n",
      "`distplot` is a deprecated function and will be removed in seaborn v0.14.0.\n",
      "\n",
      "Please adapt your code to use either `displot` (a figure-level function with\n",
      "similar flexibility) or `histplot` (an axes-level function for histograms).\n",
      "\n",
      "For a guide to updating your code to use the new functions, please see\n",
      "https://gist.github.com/mwaskom/de44147ed2974457ad6372750bbe5751\n",
      "\n",
      "  sns.distplot(df['placement_exam_marks'])\n"
     ]
    },
    {
     "data": {
      "text/plain": [
       "<Axes: xlabel='placement_exam_marks', ylabel='Density'>"
      ]
     },
     "execution_count": 6,
     "metadata": {},
     "output_type": "execute_result"
    },
    {
     "data": {
      "image/png": "[encoded data removed]",
      "text/plain": [
       "<Figure size 1200x800 with 2 Axes>"
      ]
     },
     "metadata": {},
     "output_type": "display_data"
    }
   ],
   "source": [
    "fig = plt.figure(figsize=(12,8))\n",
    "plt.subplot(1,2,1)\n",
    "sns.distplot(df['cgpa'])\n",
    "\n",
    "plt.subplot(1,2,2)\n",
    "sns.distplot(df['placement_exam_marks'])"
   ]
  },
  {
   "cell_type": "code",
   "execution_count": 7,
   "id": "e7eaf047",
   "metadata": {},
   "outputs": [
    {
     "data": {
      "text/plain": [
       "(1000, 3)"
      ]
     },
     "execution_count": 7,
     "metadata": {},
     "output_type": "execute_result"
    }
   ],
   "source": [
    "df.shape"
   ]
  },
  {
   "cell_type": "code",
   "execution_count": 8,
   "id": "d5eedd38",
   "metadata": {},
   "outputs": [
    {
     "data": {
      "text/html": [
       "<div>\n",
       "<style scoped>\n",
       "    .dataframe tbody tr th:only-of-type {\n",
       "        vertical-align: middle;\n",
       "    }\n",
       "\n",
       "    .dataframe tbody tr th {\n",
       "        vertical-align: top;\n",
       "    }\n",
       "\n",
       "    .dataframe thead th {\n",
       "        text-align: right;\n",
       "    }\n",
       "</style>\n",
       "<table border=\"1\" class=\"dataframe\">\n",
       "  <thead>\n",
       "    <tr style=\"text-align: right;\">\n",
       "      <th></th>\n",
       "      <th>cgpa</th>\n",
       "      <th>placement_exam_marks</th>\n",
       "      <th>placed</th>\n",
       "    </tr>\n",
       "  </thead>\n",
       "  <tbody>\n",
       "    <tr>\n",
       "      <th>9</th>\n",
       "      <td>7.75</td>\n",
       "      <td>94.0</td>\n",
       "      <td>1</td>\n",
       "    </tr>\n",
       "    <tr>\n",
       "      <th>14</th>\n",
       "      <td>7.91</td>\n",
       "      <td>43.0</td>\n",
       "      <td>0</td>\n",
       "    </tr>\n",
       "    <tr>\n",
       "      <th>19</th>\n",
       "      <td>7.63</td>\n",
       "      <td>29.0</td>\n",
       "      <td>0</td>\n",
       "    </tr>\n",
       "    <tr>\n",
       "      <th>31</th>\n",
       "      <td>7.66</td>\n",
       "      <td>44.0</td>\n",
       "      <td>0</td>\n",
       "    </tr>\n",
       "    <tr>\n",
       "      <th>34</th>\n",
       "      <td>8.15</td>\n",
       "      <td>9.0</td>\n",
       "      <td>0</td>\n",
       "    </tr>\n",
       "  </tbody>\n",
       "</table>\n",
       "</div>"
      ],
      "text/plain": [
       "    cgpa  placement_exam_marks  placed\n",
       "9   7.75                  94.0       1\n",
       "14  7.91                  43.0       0\n",
       "19  7.63                  29.0       0\n",
       "31  7.66                  44.0       0\n",
       "34  8.15                   9.0       0"
      ]
     },
     "execution_count": 8,
     "metadata": {},
     "output_type": "execute_result"
    }
   ],
   "source": [
    "df[df['cgpa']>7.6].head()"
   ]
  },
  {
   "cell_type": "markdown",
   "id": "fc25fb2d",
   "metadata": {},
   "source": [
    "#### As we can see the `cgpa` is having uniform distribution of datapoints. So we will be having two options to handle the outliers 1) Trimming 2) Capping"
   ]
  },
  {
   "cell_type": "markdown",
   "id": "7f8c6cba",
   "metadata": {},
   "source": [
    "#### 1) Trimming"
   ]
  },
  {
   "cell_type": "code",
   "execution_count": 9,
   "id": "4f8b7acf",
   "metadata": {},
   "outputs": [
    {
     "name": "stdout",
     "output_type": "stream",
     "text": [
      "6.96124 0.6158978751323894\n"
     ]
    }
   ],
   "source": [
    "mean_cgpa = df['cgpa'].mean()\n",
    "sd_cgpa = df['cgpa'].std()\n",
    "print(mean_cgpa,sd_cgpa)"
   ]
  },
  {
   "cell_type": "code",
   "execution_count": 10,
   "id": "bd682e5a",
   "metadata": {},
   "outputs": [
    {
     "name": "stdout",
     "output_type": "stream",
     "text": [
      "max limit of cgpa 8.808933625397168\n",
      "min limit of cgpa 5.113546374602832\n"
     ]
    }
   ],
   "source": [
    "z_score_upper_limit = mean_cgpa + 3 * sd_cgpa\n",
    "z_score_lower_limit = mean_cgpa - 3 * sd_cgpa\n",
    "\n",
    "print('max limit of cgpa', z_score_upper_limit)\n",
    "print('min limit of cgpa', z_score_lower_limit)"
   ]
  },
  {
   "cell_type": "code",
   "execution_count": 11,
   "id": "1b7ba69e",
   "metadata": {},
   "outputs": [],
   "source": [
    "df_trimmed1 = df[df['cgpa']<z_score_upper_limit]"
   ]
  },
  {
   "cell_type": "code",
   "execution_count": 12,
   "id": "0affeb4e",
   "metadata": {},
   "outputs": [],
   "source": [
    "df_trimmed2 = df_trimmed1[df_trimmed1['cgpa']>z_score_lower_limit]"
   ]
  },
  {
   "cell_type": "code",
   "execution_count": 13,
   "id": "146eebac",
   "metadata": {},
   "outputs": [],
   "source": [
    "# df_trimmed2"
   ]
  },
  {
   "cell_type": "code",
   "execution_count": null,
   "id": "3b852c8a",
   "metadata": {},
   "outputs": [],
   "source": []
  },
  {
   "cell_type": "code",
   "execution_count": null,
   "id": "a4139485",
   "metadata": {},
   "outputs": [],
   "source": []
  },
  {
   "cell_type": "markdown",
   "id": "45400ad8",
   "metadata": {},
   "source": [
    "#### 2) Capping"
   ]
  },
  {
   "cell_type": "code",
   "execution_count": 14,
   "id": "297dde47",
   "metadata": {},
   "outputs": [
    {
     "name": "stdout",
     "output_type": "stream",
     "text": [
      "6.96124\n",
      "0.6158978751323894\n"
     ]
    }
   ],
   "source": [
    "print(df['cgpa'].mean())\n",
    "print(df['cgpa'].std())"
   ]
  },
  {
   "cell_type": "code",
   "execution_count": 15,
   "id": "b5841e49",
   "metadata": {},
   "outputs": [],
   "source": [
    "z_score_upper = df['cgpa'].mean() + 3*df['cgpa'].std()\n",
    "z_score_lower = df['cgpa'].mean() - 3*df['cgpa'].std()"
   ]
  },
  {
   "cell_type": "markdown",
   "id": "a0381d99",
   "metadata": {},
   "source": [
    "##### In capping method instead of removing the outliers from the feature column, we just replace the outlier datapoints with the z_score values."
   ]
  },
  {
   "cell_type": "code",
   "execution_count": 16,
   "id": "2f17b046",
   "metadata": {},
   "outputs": [],
   "source": [
    "df_capping = df"
   ]
  },
  {
   "cell_type": "code",
   "execution_count": 17,
   "id": "8e5006c7",
   "metadata": {},
   "outputs": [
    {
     "name": "stdout",
     "output_type": "stream",
     "text": [
      "Before handling the outlier\n",
      "     cgpa  placement_exam_marks  placed\n",
      "995  8.87                  44.0       1\n",
      "996  9.12                  65.0       1\n",
      "     cgpa  placement_exam_marks  placed\n",
      "485  4.92                  44.0       1\n",
      "997  4.89                  34.0       0\n",
      "999  4.90                  10.0       1\n"
     ]
    }
   ],
   "source": [
    "print('Before handling the outlier')\n",
    "print(df_capping[df_capping['cgpa']>z_score_upper])\n",
    "print(df_capping[df_capping['cgpa']<z_score_lower])"
   ]
  },
  {
   "cell_type": "markdown",
   "id": "0865c25c",
   "metadata": {},
   "source": [
    "#### Replacing the outlier datapoint values with the max z-score & min z-score values respectively."
   ]
  },
  {
   "cell_type": "code",
   "execution_count": 18,
   "id": "416bc2c7",
   "metadata": {},
   "outputs": [
    {
     "name": "stderr",
     "output_type": "stream",
     "text": [
      "/var/folders/03/17q0xl853nxgk_46r8x0vbkr0000gn/T/ipykernel_33480/2216326420.py:1: SettingWithCopyWarning: \n",
      "A value is trying to be set on a copy of a slice from a DataFrame\n",
      "\n",
      "See the caveats in the documentation: https://pandas.pydata.org/pandas-docs/stable/user_guide/indexing.html#returning-a-view-versus-a-copy\n",
      "  df_capping['cgpa'][df_capping['cgpa']>z_score_upper] = z_score_upper\n",
      "/var/folders/03/17q0xl853nxgk_46r8x0vbkr0000gn/T/ipykernel_33480/2216326420.py:2: SettingWithCopyWarning: \n",
      "A value is trying to be set on a copy of a slice from a DataFrame\n",
      "\n",
      "See the caveats in the documentation: https://pandas.pydata.org/pandas-docs/stable/user_guide/indexing.html#returning-a-view-versus-a-copy\n",
      "  df_capping['cgpa'][df_capping['cgpa']<z_score_lower] = z_score_lower\n"
     ]
    }
   ],
   "source": [
    "df_capping['cgpa'][df_capping['cgpa']>z_score_upper] = z_score_upper\n",
    "df_capping['cgpa'][df_capping['cgpa']<z_score_lower] = z_score_lower"
   ]
  },
  {
   "cell_type": "code",
   "execution_count": 19,
   "id": "421fb4c9",
   "metadata": {},
   "outputs": [
    {
     "name": "stdout",
     "output_type": "stream",
     "text": [
      "After handling the outlier\n",
      "Empty DataFrame\n",
      "Columns: [cgpa, placement_exam_marks, placed]\n",
      "Index: []\n",
      "Empty DataFrame\n",
      "Columns: [cgpa, placement_exam_marks, placed]\n",
      "Index: []\n"
     ]
    }
   ],
   "source": [
    "print('After handling the outlier')\n",
    "print(df_capping[df_capping['cgpa']>z_score_upper])\n",
    "print(df_capping[df_capping['cgpa']<z_score_lower])"
   ]
  },
  {
   "cell_type": "code",
   "execution_count": 20,
   "id": "bb84a7b8",
   "metadata": {},
   "outputs": [
    {
     "data": {
      "text/plain": [
       "count    1000.000000\n",
       "mean        6.961499\n",
       "std         0.612688\n",
       "min         5.113546\n",
       "25%         6.550000\n",
       "50%         6.960000\n",
       "75%         7.370000\n",
       "max         8.808934\n",
       "Name: cgpa, dtype: float64"
      ]
     },
     "execution_count": 20,
     "metadata": {},
     "output_type": "execute_result"
    }
   ],
   "source": [
    "df_capping['cgpa'].describe()"
   ]
  },
  {
   "cell_type": "code",
   "execution_count": null,
   "id": "1672b01f",
   "metadata": {},
   "outputs": [],
   "source": []
  },
  {
   "cell_type": "code",
   "execution_count": null,
   "id": "331e6039",
   "metadata": {},
   "outputs": [],
   "source": []
  },
  {
   "cell_type": "code",
   "execution_count": null,
   "id": "807997c9",
   "metadata": {},
   "outputs": [],
   "source": []
  }
 ],
 "metadata": {
  "kernelspec": {
   "display_name": "Python 3 (ipykernel)",
   "language": "python",
   "name": "python3"
  },
  "language_info": {
   "codemirror_mode": {
    "name": "ipython",
    "version": 3
   },
   "file_extension": ".py",
   "mimetype": "text/x-python",
   "name": "python",
   "nbconvert_exporter": "python",
   "pygments_lexer": "ipython3",
   "version": "3.11.3"
  }
 },
 "nbformat": 4,
 "nbformat_minor": 5
}
